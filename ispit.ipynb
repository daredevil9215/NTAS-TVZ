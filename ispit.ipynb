{
 "cells": [
  {
   "cell_type": "code",
   "execution_count": 1,
   "metadata": {},
   "outputs": [],
   "source": [
    "import heapq\n",
    "import networkx as nx\n",
    "import contextlib\n",
    "import matplotlib.pyplot as plt\n",
    "\n",
    "def draw_weighted_graph(graph: nx.Graph, graph_dict: dict) -> None:\n",
    "\n",
    "    for i,j in graph.edges():\n",
    "        graph[i][j]['weight'] = graph_dict[i][j]\n",
    "\n",
    "    weight_labels = nx.get_edge_attributes(graph,'weight')\n",
    "    pos = nx.spring_layout(graph)\n",
    "\n",
    "    fig, ax = plt.subplots(figsize=(8, 6))\n",
    "    nx.draw(graph,pos, with_labels = True)\n",
    "    with contextlib.redirect_stdout(None):\n",
    "        nx.draw_networkx_edge_labels(graph, pos, edge_labels=weight_labels, font_size=7)\n",
    "\n",
    "def dijkstra(graph, start):\n",
    "    # Priority queue to store (cost, vertex) tuples\n",
    "    priority_queue = [(0, start)]\n",
    "    # Dictionary to store the shortest path to each vertex\n",
    "    shortest_paths = {vertex: float('inf') for vertex in graph}\n",
    "    # Start vertex has a distance of 0 from itself\n",
    "    shortest_paths[start] = 0\n",
    "    # Dictionary to store the previous node on the shortest path\n",
    "    previous_nodes = {vertex: None for vertex in graph}\n",
    "\n",
    "    while priority_queue:\n",
    "        # Get the vertex with the smallest distance\n",
    "        current_distance, current_vertex = heapq.heappop(priority_queue)\n",
    "\n",
    "        # If the distance of the current vertex is greater than the recorded shortest path, skip it\n",
    "        if current_distance > shortest_paths[current_vertex]:\n",
    "            continue\n",
    "\n",
    "        # Check the neighbors of the current vertex\n",
    "        for neighbor, weight in graph[current_vertex].items():\n",
    "            distance = current_distance + weight\n",
    "\n",
    "            # If a shorter path to the neighbor is found\n",
    "            if distance < shortest_paths[neighbor]:\n",
    "                shortest_paths[neighbor] = distance\n",
    "                previous_nodes[neighbor] = current_vertex\n",
    "                heapq.heappush(priority_queue, (distance, neighbor))\n",
    "\n",
    "    # Reconstruct the shortest path for each vertex\n",
    "    paths = {}\n",
    "    for vertex in graph:\n",
    "        path = []\n",
    "        current = vertex\n",
    "        while current is not None:\n",
    "            path.append(current)\n",
    "            current = previous_nodes[current]\n",
    "        path.reverse()\n",
    "        paths[vertex] = path\n",
    "\n",
    "    return shortest_paths, paths"
   ]
  },
  {
   "cell_type": "code",
   "execution_count": 2,
   "metadata": {},
   "outputs": [],
   "source": [
    "class BSTree:\n",
    "    class Node:\n",
    "        def __init__(self, val, left=None, right=None):\n",
    "            self.val = val\n",
    "            self.left = left\n",
    "            self.right = right\n",
    "            \n",
    "        def rotate_right(self):\n",
    "            n = self.left\n",
    "            self.val, n.val = n.val, self.val\n",
    "            self.left, n.left, self.right, n.right = n.left, n.right, n, self.right\n",
    "        \n",
    "        def rotate_left(self):\n",
    "            n = self.right\n",
    "            self.val, n.val = n.val, self.val\n",
    "            #print(self.left,n.left)\n",
    "            self.right, n.right, self.left, n.left = n.right, n.left, n, self.left\n",
    "         \n",
    "        @staticmethod\n",
    "        def height(n):\n",
    "            if not n:\n",
    "                return -1\n",
    "            else:\n",
    "                return max(1+BSTree.Node.height(n.left), 1+BSTree.Node.height(n.right))\n",
    "            \n",
    "    def __init__(self):\n",
    "        self.size = 0\n",
    "        self.root = None\n",
    "    \n",
    "    def __contains__(self, val):\n",
    "        def contains_rec(node):\n",
    "            if not node:\n",
    "                return False\n",
    "            elif val < node.val:\n",
    "                return contains_rec(node.left)\n",
    "            elif val > node.val:\n",
    "                return contains_rec(node.right)\n",
    "            else:\n",
    "                return True\n",
    "        return contains_rec(self.root)\n",
    "    \n",
    "    def __len__(self):\n",
    "        return self.size\n",
    "        \n",
    "    def pprint(self, width=64):\n",
    "        \"\"\" (Lijepi) ispis stabla.\"\"\"\n",
    "        height = self.height()\n",
    "        print(height)\n",
    "        nodes  = [(self.root, 0)]\n",
    "        prev_level = 0\n",
    "        repr_str = ''\n",
    "        while nodes:\n",
    "            n,level = nodes.pop(0)\n",
    "            if prev_level != level:\n",
    "                prev_level = level\n",
    "                repr_str += '\\n'\n",
    "            if not n:\n",
    "                if level < height:\n",
    "                    nodes.extend([(None, level+1), (None, level+1)])\n",
    "                repr_str += '{val:^{width}}'.format(val='-', width=width//2**level)\n",
    "            elif n:\n",
    "                if n.left or level < height:\n",
    "                    nodes.append((n.left, level+1))\n",
    "                if n.right or level < height:\n",
    "                    nodes.append((n.right, level+1))\n",
    "                repr_str += '{val:^{width}}'.format(val=n.val, width=width//2**level)\n",
    "        print(repr_str)\n",
    "    \n",
    "    def height(self):\n",
    "        \"\"\"Visina čvora.\"\"\"\n",
    "        def height_rec(t):\n",
    "            if not t:\n",
    "                return -1\n",
    "            else:\n",
    "                return max(1+height_rec(t.left), 1+height_rec(t.right))\n",
    "        return height_rec(self.root)\n",
    "    \n",
    "    \"\"\"\n",
    "    Statička metoda za balansiranje\n",
    "    \"\"\"\n",
    "    @staticmethod\n",
    "    def rebalance(t):\n",
    "\n",
    "        \"\"\"\n",
    "        Slučajevi 1 ili 3\n",
    "        Visina lijevog podstabla je veća od visine desnog podstabla \n",
    "        \"\"\"\n",
    "\n",
    "        if BSTree.Node.height(t.left) > BSTree.Node.height(t.right):\n",
    "\n",
    "            \"\"\"\n",
    "            Slučaj - lijevo-lijevo otežanost ili lijevo-desno otežanost\n",
    "            \"\"\"\n",
    "\n",
    "            if BSTree.Node.height(t.left.left) >= BSTree.Node.height(t.left.right):\n",
    "                # left-left\n",
    "                #print('left-left imbalance detected ',  t.val)\n",
    "                t.rotate_right()\n",
    "\n",
    "            else:\n",
    "                # left-right\n",
    "                #print('left-right imbalance detected ', t.val)\n",
    "                t.left.rotate_left()\n",
    "                t.rotate_right()\n",
    "  \n",
    "            \"\"\"\n",
    "            ZADATAK 1\n",
    "            Dopuniti potrebni kôd za ovaj slučaj\n",
    "\n",
    "        Slučajevi 2 ili 4\n",
    "        Visina desnog podstabla je veća od visine lijevog podstabla \n",
    "            \"\"\" \n",
    "        else:\n",
    "\n",
    "            \"\"\"\n",
    "            Slučaj - desno-desno otežanost ili desno-lijevo otežanost\n",
    "            \"\"\"\n",
    "                   \n",
    "            if BSTree.Node.height(t.right.right) >= BSTree.Node.height(t.right.left):\n",
    "                # right-right\n",
    "                #print('right-right imbalance detected ',  t.val)\n",
    "                t.rotate_left()\n",
    "            else:\n",
    "                # right-left\n",
    "                #print('right-left imbalance detected ', t.val)\n",
    "                t.right.rotate_right()\n",
    "                t.rotate_left()\n",
    "        \n",
    "    # Metoda za umetanje u AVL stablo i balansiranje  \n",
    "    def add(self, val):\n",
    "        assert(val not in self)\n",
    "        def add_rec(node):\n",
    "            if not node:\n",
    "                return BSTree.Node(val)\n",
    "            elif val < node.val:\n",
    "                node.left = add_rec(node.left)\n",
    "            else:\n",
    "                node.right = add_rec(node.right)\n",
    "            \"\"\"\n",
    "            Uvjet za balansiranje\n",
    "            \"\"\"\n",
    "            if abs(BSTree.Node.height(node.left) - BSTree.Node.height(node.right)) >= 2:\n",
    "                BSTree.rebalance(node)\n",
    "            return node\n",
    "        self.root = add_rec(self.root)\n",
    "        self.size += 1\n",
    "        \n",
    "        \n",
    "        \"\"\"\n",
    "             ZADATAK 2 - napisati rekurzivne metode u klasi BSTree za obilazak stabla\n",
    "\n",
    "             Obilasci stabla:\n",
    "                - inorder   (left-root-right)\n",
    "                - preorder  (root-left-right)\n",
    "                - postorder (left-right-root)\n",
    "        \"\"\"\n",
    "        \n",
    "    def inorder(self, node):\n",
    "        if node == None:\n",
    "            return\n",
    "        self.inorder(node.left)\n",
    "        print(node.val)\n",
    "        self.inorder(node.right)\n",
    "            \n",
    "    def postorder(self, node):\n",
    "        if node == None:\n",
    "            return\n",
    "        self.postorder(node.left)\n",
    "        self.postorder(node.right)\n",
    "        print(node.val)\n",
    "           \n",
    "    def preorder(self, node):\n",
    "        if node == None:\n",
    "            return\n",
    "        print(node.val)\n",
    "        self.preorder(node.left)\n",
    "        self.preorder(node.right)\n",
    "\n",
    "\"\"\"\n",
    "Globalne funkcije izvan razreda za ispis minimalne i maksimalne vrijednosti u stablu\n",
    "\"\"\"        \n",
    "def minValue(node):\n",
    "    if node.left == None:\n",
    "        return node.val\n",
    "    return minValue(node.left)\n",
    "\n",
    "def maxValue(node):\n",
    "    if node.right == None:\n",
    "        return node.val\n",
    "    return maxValue(node.right)\n",
    "\n",
    "\n",
    "\"\"\"\n",
    "Globalne funkcije izvan razreda za ispis listova u stablu s lijeva na desno i s desna na lijevo\n",
    "\"\"\"     \n",
    "\n",
    "def ispisListova_L_R(root):\n",
    "    \n",
    "    if root == None:\n",
    "        return\n",
    "    \n",
    "    queue = []\n",
    "\n",
    "    queue.append(root)\n",
    "\n",
    "    while len(queue) > 0:\n",
    "\n",
    "        print(queue[0].val)\n",
    "        \n",
    "        node = queue.pop(0)\n",
    "\n",
    "        if node.left != None:\n",
    "            queue.append(node.left)\n",
    "\n",
    "        if node.right != None:\n",
    "            queue.append(node.right)\n",
    "\n",
    "               \n",
    "def ispisListova_R_L(root):\n",
    "    \n",
    "    if root == None:\n",
    "        return\n",
    "    \n",
    "    queue = []\n",
    "\n",
    "    queue.append(root)\n",
    "\n",
    "    while len(queue) > 0:\n",
    "\n",
    "        print(queue[0].val)\n",
    "        \n",
    "        node = queue.pop(0)\n",
    "\n",
    "        if node.right != None:\n",
    "            queue.append(node.right)\n",
    "\n",
    "        if node.left != None:\n",
    "            queue.append(node.left)\n"
   ]
  },
  {
   "cell_type": "code",
   "execution_count": 3,
   "metadata": {},
   "outputs": [],
   "source": [
    "class DataItem:\n",
    "\n",
    "\tdef __init__(self, dd):\t#special method to create objects\n",
    "\t#with instances customized to a specific initial state\n",
    "\t\tself.dData = dd#one piece of data\n",
    "\n",
    "\tdef displayItem(self):\t#format \" /27\"\n",
    "\t\tprint ('/', self.dData)\n",
    "#end class DataItem\n",
    "\n",
    "class Node:\n",
    "\t#as private instance variables don't exist in Python,\n",
    "\t#hence using a convention: name prefixed with an underscore, to treat them as non-public part\n",
    "\t_ORDER = 4\n",
    "\tdef __init__(self):\n",
    "\t\tself._numItems = 0\n",
    "\t\tself._pParent = None\n",
    "\t\tself._childArray = []\t#array of nodes\n",
    "\t\tself._itemArray = []\t#array of data\n",
    "\t\tfor j in range(self._ORDER):\t#initialize arrays\n",
    "\t\t\tself._childArray.append(None)\n",
    "\t\tfor k in range(self._ORDER - 1):\n",
    "\t\t\tself._itemArray.append(None)\n",
    "\n",
    "\t\t\t#connect child to this node\n",
    "\tdef connectChild(self, childNum, pChild):\n",
    "\t\tself._childArray[childNum] = pChild\n",
    "\t\tif pChild:\n",
    "\t\t\tpChild._pParent = self\n",
    "\n",
    "\t\t\t#disconnect child from this node, return it\n",
    "\tdef disconnectChild(self, childNum):\n",
    "\t\tpTempNode = self._childArray[childNum]\n",
    "\t\tself._childArray[childNum] = None\n",
    "\t\treturn pTempNode\n",
    "\n",
    "\tdef getChild(self, childNum):\n",
    "\t\treturn self._childArray[childNum]\n",
    "\n",
    "\tdef getParent(self):\n",
    "\t\treturn self._pParent\n",
    "\n",
    "\tdef isLeaf(self):\n",
    "\t\treturn not self._childArray[0]\n",
    "\n",
    "\tdef getNumItems(self):\n",
    "\t\treturn self._numItems\n",
    "\n",
    "\tdef getItem(self, index):\t#get DataItem at index\n",
    "\t\treturn self._itemArray[index]\n",
    "\n",
    "\tdef isFull(self):\n",
    "\t\treturn self._numItems==self._ORDER - 1\n",
    "\n",
    "\tdef findItem(self, key):\t#return index of\n",
    "\t\tfor j in range(self._ORDER-1):\t#item (within node)\n",
    "\t\t\tif not self._itemArray[j]:\t#if found,\n",
    "\t\t\t\tbreak\t#otherwise,\n",
    "\t\t\telif self._itemArray[j].dData == key:\t#return -1\n",
    "\t\t\t\treturn j\n",
    "\t\treturn -1\n",
    "\t#end findItem\n",
    "\n",
    "\tdef insertItem(self, pNewItem):\n",
    "\t\t#assumes node is not full\n",
    "\t\tself._numItems += 1#will add new item\n",
    "\t\tnewKey = pNewItem.dData\t#key of new item\n",
    "\n",
    "\t\tfor j in reversed(range(self._ORDER-1)):\t#start on right,\t#examine items\n",
    "\t\t\tif self._itemArray[j] == None:\t#if item null,\n",
    "\t\t\t\tpass\t#go left one cell\n",
    "\t\t\telse:\t#not null,\n",
    "\t\t\t\titsKey = self._itemArray[j].dData\t#get its key\n",
    "\t\t\t\tif newKey < itsKey:\t#if it's bigger\n",
    "\t\t\t\t\tself._itemArray[j+1] = self._itemArray[j]\t#shift it right\n",
    "\t\t\t\telse:\n",
    "\t\t\t\t\tself._itemArray[j+1] = pNewItem\t#insert new item\n",
    "\t\t\t\t\treturn j+1#return index to new item\n",
    "\t\t\t#end else (not null)\n",
    "\t\t#end for \t#shifted all items,\n",
    "\t\tself._itemArray[0] = pNewItem\t#insert new item\n",
    "\t\treturn 0\n",
    "\t#end insertItem()\n",
    "\n",
    "\tdef removeItem(self):\t#remove largest item\n",
    "\t\t#assumes node not empty\n",
    "\t\tpTemp = self._itemArray[self._numItems-1]\t#save item\n",
    "\t\tself._itemArray[self._numItems-1] = None\t#disconnect it\n",
    "\t\tself._numItems -= 1#one less item\n",
    "\t\treturn pTemp#return item\n",
    "\n",
    "\tdef displayNode(self):\t#format \"/24/56/74\"\n",
    "\t\tfor j in range(self._numItems):\n",
    "\t\t\tself._itemArray[j].displayItem()\t#format \"/56\"\n",
    "\t\tprint ('/')\t#final \"/\"\n",
    "\n",
    "#end class Node\n",
    "\n",
    "class Tree234:\n",
    "\t#as private instance variables don't exist in Python,\n",
    "\t#hence using a convention: name prefixed with an underscore, to treat them as non-public part\n",
    "\tdef __init__(self):\n",
    "\t\tself._pRoot = Node()\t#root node\n",
    "\n",
    "\tdef find(self, key):\n",
    "\t\tpCurNode = self._pRoot\t#start at root\n",
    "\t\twhile True:\n",
    "\t\t\tchildNumber=pCurNode.findItem(key)\n",
    "\t\t\tif childNumber != -1:\n",
    "\t\t\t\treturn childNumber\t#found it\n",
    "\t\t\telif pCurNode.isLeaf():\n",
    "\t\t\t\treturn -1#can't find it\n",
    "\t\t\telse:\t#search deeper\n",
    "\t\t\t\tpCurNode = self.getNextChild(pCurNode, key)\n",
    "\t\t#end while\n",
    "\n",
    "\tdef insert(self, dValue):\t#insert a DataItem\n",
    "\t\tpCurNode = self._pRoot\n",
    "\t\tpTempItem = DataItem(dValue)\n",
    "\n",
    "\t\twhile True:\n",
    "\t\t\tif pCurNode.isFull():\t#if node full,\n",
    "\t\t\t\tself.split(pCurNode)\t#split it\n",
    "\t\t\t\tpCurNode = pCurNode.getParent()\t#back up\n",
    "\t\t\t\t\t#search once\n",
    "\t\t\t\tpCurNode = self.getNextChild(pCurNode, dValue)\n",
    "\t\t\t#end if(node is full)\n",
    "\n",
    "\t\t\telif pCurNode.isLeaf():\t#if node is leaf,\n",
    "\t\t\t\tbreak\t#go insert\n",
    "\t\t\t#node is not full, not a leaf; so go to lower level\n",
    "\t\t\telse:\n",
    "\t\t\t\tpCurNode = self.getNextChild(pCurNode, dValue)\n",
    "\t\t#end while\n",
    "\t\tpCurNode.insertItem(pTempItem)\t#insert new item\n",
    "\t#end insert()\n",
    "\n",
    "\tdef split(self, pThisNode):\t#split the node\n",
    "\t\t#assumes node is full\n",
    "\t\t\n",
    "\t\tpItemC = pThisNode.removeItem()\t#remove items from\n",
    "\t\tpItemB = pThisNode.removeItem()\t#this node\n",
    "\t\tpChild2 = pThisNode.disconnectChild(2)\t#remove children\n",
    "\t\tpChild3 = pThisNode.disconnectChild(3)\t#from this node\n",
    "\n",
    "\t\tpNewRight = Node()\t#make new node\n",
    "\n",
    "\t\tif pThisNode == self._pRoot:\t#if this is the root,\n",
    "\t\t\tself._pRoot = Node()\t#make new root\n",
    "\t\t\tpParent = self._pRoot\t#root is our parent\n",
    "\t\t\tself._pRoot.connectChild(0, pThisNode)\t#connect to parent\n",
    "\t\telse:\t#this node not the root\n",
    "\t\t\tpParent = pThisNode.getParent()\t#get parent\n",
    "\n",
    "\t\t#deal with parent\n",
    "\t\titemIndex = pParent.insertItem(pItemB)\t#item B to parent\n",
    "\t\tn = pParent.getNumItems()\t#total items?\n",
    "\n",
    "\t\tj = n-1#move parent's\n",
    "\t\twhile j > itemIndex:\t#connections\n",
    "\t\t\tpTemp = pParent.disconnectChild(j)\t#one child\n",
    "\t\t\tpParent.connectChild(j+1, pTemp)\t#to the right\n",
    "\t\t\tj -= 1\n",
    "\t\t\t\t#connect newRight to parent\n",
    "\t\tpParent.connectChild(itemIndex+1, pNewRight)\n",
    "\n",
    "\t\t#deal with newRight\n",
    "\t\tpNewRight.insertItem(pItemC)\t#item C to newRight\n",
    "\t\tpNewRight.connectChild(0, pChild2)\t#connect to 0 and 1\n",
    "\t\tpNewRight.connectChild(1, pChild3)\t#on newRight\n",
    "\t#end split()\n",
    "\n",
    "\t#gets appropriate child of node during search of value\n",
    "\tdef getNextChild(self, pNode, theValue):\n",
    "\t\t#assumes node is not empty, not full, not a leaf\n",
    "\t\tnumItems = pNode.getNumItems()\n",
    "\t\t\n",
    "\t\tfor j in range(numItems):\t#for each item in node\n",
    "\t\t\tif theValue < pNode.getItem(j).dData:\t#are we less?\n",
    "\t\t\t\treturn pNode.getChild(j)\t#return left child\n",
    "\t\telse:\t#end for \t#we're greater, so\n",
    "\t\t\treturn pNode.getChild(j + 1)\t#return right child\n",
    "\n",
    "\tdef displayTree(self):\n",
    "\t\tself.recDisplayTree(self._pRoot, 0, 0)\n",
    "\n",
    "\tdef recDisplayTree(self, pThisNode, level, childNumber):\n",
    "\t\tprint ('level=', level, 'child=', childNumber)\n",
    "\t\tpThisNode.displayNode()\t#display this node\n",
    "\n",
    "\t\t#call ourselves for each child of this node\n",
    "\t\tnumItems = pThisNode.getNumItems()\n",
    "\t\tfor j in range(numItems+1):\n",
    "\t\t\tpNextNode = pThisNode.getChild(j)\n",
    "\t\t\tif pNextNode:\n",
    "\t\t\t\tself.recDisplayTree(pNextNode, level+1, j)\n",
    "\t\t\telse:\n",
    "\t\t\t\treturn"
   ]
  },
  {
   "cell_type": "markdown",
   "metadata": {},
   "source": [
    "# AVL stablo"
   ]
  },
  {
   "cell_type": "code",
   "execution_count": 4,
   "metadata": {},
   "outputs": [
    {
     "name": "stdout",
     "output_type": "stream",
     "text": [
      "3\n",
      "                               34                               \n",
      "               17                              46               \n",
      "       15              30              38              50       \n",
      "   5       16      25      33      -       39      47      -    \n"
     ]
    }
   ],
   "source": [
    "# Kreiranje AVL balansiranog stabla iz liste, iscrtavanje stabla i ispis visine\n",
    "t = BSTree()\n",
    "# dodavanje u stablo iz liste\n",
    "for x in [15, 30, 17,33, 25, 16, 46, 34, 5, 38, 50, 47, 39]:\n",
    "    t.add(x)\n",
    "\n",
    "# crtanje stabla\n",
    "t.pprint()"
   ]
  },
  {
   "cell_type": "code",
   "execution_count": 5,
   "metadata": {},
   "outputs": [
    {
     "name": "stdout",
     "output_type": "stream",
     "text": [
      "[26, 2, 77, 75, 39, 78, 85, 34, 30, 25]\n",
      "[2, 78, 75]\n"
     ]
    }
   ],
   "source": [
    "import random\n",
    "\n",
    "a = [26, 2, 77, 75, 39, 78, 85, 34, 30, 25]\n",
    "print(a)\n",
    "\n",
    "b = [a[random.randint(0, len(a)-1)] for _ in range(3)]\n",
    "print(b)"
   ]
  },
  {
   "cell_type": "markdown",
   "metadata": {},
   "source": [
    "# Crveno-crno"
   ]
  },
  {
   "cell_type": "code",
   "execution_count": 6,
   "metadata": {},
   "outputs": [
    {
     "name": "stdout",
     "output_type": "stream",
     "text": [
      "[26, 2, 77, 75, 39, 78, 85, 34, 30, 25]\n"
     ]
    }
   ],
   "source": [
    "a = [26, 2, 77, 75, 39, 78, 85, 34, 30, 25]\n",
    "print(a)"
   ]
  },
  {
   "cell_type": "markdown",
   "metadata": {},
   "source": [
    "# Hash"
   ]
  },
  {
   "cell_type": "code",
   "execution_count": 7,
   "metadata": {},
   "outputs": [
    {
     "data": {
      "text/plain": [
       "'kljucevi = [46, 98, 5, 84, 33, 89, 16, 47, 97, 18, 78, 32, 41, 6, 79, 77, 26, 86, 3, 39, 99, 87, 92]\\n\\ndef h(k: int) -> int:\\n    return k % 7\\n\\nvelicina_tablice = 7\\n\\ntablica = {x: [] for x in range(velicina_tablice)}\\n\\nfor k in kljucevi:\\n    index = h(k)\\n    tablica[index].append(k)\\n\\nfor pretinac in tablica:\\n    print(f\\'Pretinac {pretinac}: {tablica[pretinac]}\\')\\n\\nprint(\"\\n86 - 3 provjere\")\\nprint(\"39 - 4 provjere\")\\nprint(\"3 - 1 provjera\")\\nprint(\"87 - 2 provjere\")'"
      ]
     },
     "execution_count": 7,
     "metadata": {},
     "output_type": "execute_result"
    }
   ],
   "source": [
    "\"\"\"kljucevi = [46, 98, 5, 84, 33, 89, 16, 47, 97, 18, 78, 32, 41, 6, 79, 77, 26, 86, 3, 39, 99, 87, 92]\n",
    "\n",
    "def h(k: int) -> int:\n",
    "    return k % 7\n",
    "\n",
    "velicina_tablice = 7\n",
    "\n",
    "tablica = {x: [] for x in range(velicina_tablice)}\n",
    "\n",
    "for k in kljucevi:\n",
    "    index = h(k)\n",
    "    tablica[index].append(k)\n",
    "\n",
    "for pretinac in tablica:\n",
    "    print(f'Pretinac {pretinac}: {tablica[pretinac]}')\n",
    "\n",
    "print(\"\\n86 - 3 provjere\")\n",
    "print(\"39 - 4 provjere\")\n",
    "print(\"3 - 1 provjera\")\n",
    "print(\"87 - 2 provjere\")\"\"\""
   ]
  },
  {
   "cell_type": "code",
   "execution_count": 8,
   "metadata": {},
   "outputs": [
    {
     "data": {
      "text/plain": [
       "'podaci = [\\'LW293\\', \\'AF721\\', \\'AO434\\', \\'NE073\\', \\'WT433\\', \\'TT315\\', \\'LA599\\', \\'WE969\\', \\'FF595\\', \\'CA346\\', \\'IU407\\', \\'HD179\\', \\'AL439\\']\\n\\ndef h_crta(k: int) -> int:\\n    return (13 * k) % 97\\n\\ndef h(k: int, i: int) -> int:\\n    return (h_crta(k) + i) % 19\\n\\ndef pretvori_tekst_u_broj(tekst: str) -> int:\\n    zbroj = sum([ord(slovo) for slovo in tekst])\\n    return zbroj\\n\\nvelicina_tablice = 19\\ntablica = {x: 0 for x in range(velicina_tablice)}\\n\\nfor p in podaci:\\n\\n    k = pretvori_tekst_u_broj(p)\\n\\n    for i in range(velicina_tablice):\\n        index = h(k, i)\\n\\n        if tablica[index] == 0:\\n            tablica[index] = p\\n            break\\n\\nfor t in tablica:\\n    print(f\\'Pretinac {t}: {tablica[t]}\\')\\n\\nprint(f\"\\n\\'FF595\\' se nalazi u pretincu 5\")\\nprint(f\"\\'WE969\\' se nalazi u pretincu 4\")\\nprint(f\"\\'AL439\\' se nalazi u pretincu 1\")\\nprint(f\"\\'CA346\\' se nalazi u pretincu 17\")\\nprint(f\"\\'IU407\\' se nalazi u pretincu 18\")'"
      ]
     },
     "execution_count": 8,
     "metadata": {},
     "output_type": "execute_result"
    }
   ],
   "source": [
    "\"\"\"podaci = ['LW293', 'AF721', 'AO434', 'NE073', 'WT433', 'TT315', 'LA599', 'WE969', 'FF595', 'CA346', 'IU407', 'HD179', 'AL439']\n",
    "\n",
    "def h_crta(k: int) -> int:\n",
    "    return (13 * k) % 97\n",
    "\n",
    "def h(k: int, i: int) -> int:\n",
    "    return (h_crta(k) + i) % 19\n",
    "\n",
    "def pretvori_tekst_u_broj(tekst: str) -> int:\n",
    "    zbroj = sum([ord(slovo) for slovo in tekst])\n",
    "    return zbroj\n",
    "\n",
    "velicina_tablice = 19\n",
    "tablica = {x: 0 for x in range(velicina_tablice)}\n",
    "\n",
    "for p in podaci:\n",
    "\n",
    "    k = pretvori_tekst_u_broj(p)\n",
    "\n",
    "    for i in range(velicina_tablice):\n",
    "        index = h(k, i)\n",
    "\n",
    "        if tablica[index] == 0:\n",
    "            tablica[index] = p\n",
    "            break\n",
    "\n",
    "for t in tablica:\n",
    "    print(f'Pretinac {t}: {tablica[t]}')\n",
    "\n",
    "print(f\"\\n'FF595' se nalazi u pretincu 5\")\n",
    "print(f\"'WE969' se nalazi u pretincu 4\")\n",
    "print(f\"'AL439' se nalazi u pretincu 1\")\n",
    "print(f\"'CA346' se nalazi u pretincu 17\")\n",
    "print(f\"'IU407' se nalazi u pretincu 18\")\"\"\""
   ]
  },
  {
   "cell_type": "markdown",
   "metadata": {},
   "source": [
    "# BTree"
   ]
  },
  {
   "cell_type": "code",
   "execution_count": 9,
   "metadata": {},
   "outputs": [
    {
     "name": "stdout",
     "output_type": "stream",
     "text": [
      "level= 0 child= 0\n",
      "/ 50\n",
      "/\n",
      "level= 1 child= 0\n",
      "/ 30\n",
      "/\n",
      "level= 2 child= 0\n",
      "/ 10\n",
      "/ 20\n",
      "/ 25\n",
      "/\n",
      "level= 2 child= 1\n",
      "/ 40\n",
      "/\n",
      "level= 1 child= 1\n",
      "/ 80\n",
      "/\n",
      "level= 2 child= 0\n",
      "/ 70\n",
      "/ 75\n",
      "/\n",
      "level= 2 child= 1\n",
      "/ 90\n",
      "/\n"
     ]
    }
   ],
   "source": [
    "pTree = Tree234()\n",
    "lista = [70, 50, 30, 40, 20, 80, 25, 90, 75, 10]\n",
    "for l in lista:\n",
    "\tpTree.insert(l)\n",
    "pTree.displayTree()"
   ]
  },
  {
   "cell_type": "markdown",
   "metadata": {},
   "source": [
    "# Dijsktra"
   ]
  },
  {
   "cell_type": "code",
   "execution_count": 10,
   "metadata": {},
   "outputs": [
    {
     "data": {
      "image/png": "[encoded data removed]",
      "text/plain": [
       "<Figure size 800x600 with 1 Axes>"
      ]
     },
     "metadata": {},
     "output_type": "display_data"
    }
   ],
   "source": [
    "graph = {\n",
    "    'A': {'B': 0.35, 'D': 1.17, 'E': 0.91},\n",
    "    'B': {'A': 0.35, 'C': 0.85, 'E': 0.62},\n",
    "    'C': {'B': 0.85, 'E': 1.81, 'F': 0.71},\n",
    "    'D': {'A': 1.17, 'E': 0.74, 'G': 1.63},\n",
    "    'E': {'A': 0.91, 'B': 0.62, 'C': 1.81, 'D': 0.74, 'F': 1.31, 'G': 0.77, 'H': 0.89, 'I': 1.2},\n",
    "    'F': {'C': 0.71, 'E': 1.31, 'I': 0.57},\n",
    "    'G': {'D': 1.63, 'E': 0.77, 'H': 1.45},\n",
    "    'H': {'E': 0.89, 'G': 1.45, 'I': 0.86},\n",
    "    'I': {'E': 1.2, 'F': 0.57, 'H': 0.86}\n",
    "}\n",
    "\n",
    "nx_graph = nx.Graph(graph)\n",
    "draw_weighted_graph(nx_graph, graph)"
   ]
  },
  {
   "cell_type": "code",
   "execution_count": 11,
   "metadata": {},
   "outputs": [
    {
     "name": "stdout",
     "output_type": "stream",
     "text": [
      "{'A': 0, 'B': 0.35, 'C': 1.2, 'D': 1.17, 'E': 0.91, 'F': 1.91, 'G': 1.6800000000000002, 'H': 1.8, 'I': 2.11}\n",
      "{'A': ['A'], 'B': ['A', 'B'], 'C': ['A', 'B', 'C'], 'D': ['A', 'D'], 'E': ['A', 'E'], 'F': ['A', 'B', 'C', 'F'], 'G': ['A', 'E', 'G'], 'H': ['A', 'E', 'H'], 'I': ['A', 'E', 'I']}\n"
     ]
    }
   ],
   "source": [
    "a, b = dijkstra(graph, 'A')\n",
    "print(a)\n",
    "print(b)"
   ]
  },
  {
   "cell_type": "markdown",
   "metadata": {},
   "source": [
    "# Teorija - Kolokvij 1"
   ]
  },
  {
   "cell_type": "markdown",
   "metadata": {},
   "source": [
    "##### 1. Navedite podjelu osnovnih algoritama sortiranja po naravi (iterativni, rekurzivni) i složenosti u O-notaciji.\n",
    "\n",
    "- iterativni \n",
    "    - Bubble sort - najbolji $O(n)$, najgori $O(n^2)$\n",
    "    - Selection sort - $O(n^2)$ u oba\n",
    "    - Insertion sort - najbolji $O(n)$, najgori $O(n^2)$\n",
    "\n",
    "- rekurzivni\n",
    "    - Merge sort - $O(n \\log n)$ u oba\n",
    "    - Quick sort - najbolji $O(n \\log n)$, najgori $O(n^2)$"
   ]
  },
  {
   "cell_type": "markdown",
   "metadata": {},
   "source": [
    "##### 2. Složenost operacije prespajanja čvorova prilikom rotacija AVL stabla ?\n",
    "- $O(1)$"
   ]
  },
  {
   "cell_type": "markdown",
   "metadata": {},
   "source": [
    "##### 4. Ako se crveno-crno stablo sastoji od $n$ čvorova, koja je najveća moguća visina takvog stabla?\n",
    "- $h \\leq 2 \\log_2(n + 1)$ => visina je reda $O(\\log n)$"
   ]
  },
  {
   "cell_type": "markdown",
   "metadata": {},
   "source": [
    "##### 6. Koja su temeljna svojstva izražena u pojmu invarijantnosti kod crveno crnog stabla?\n",
    "- Invarijantnost uređenosti - lijevo manji, desno veći\n",
    "- Invarijantnost visine - broj crnih čvorova na svakom putu od korijena do svakog lista mora biti jednak\n",
    "- Invarijantnost boje - dva uzastopna čvora nisu crvena"
   ]
  },
  {
   "cell_type": "markdown",
   "metadata": {},
   "source": [
    "##### 7. Kakve vrste unutrašnjih čvorova (koji nisu listovi) se razlikuju u 2-3-4 stablu s obzirom na broj pohranjenih podataka i broj čvorova djece?\n",
    "\n",
    "- Čvor s jednim podatkom ima uvijek dva djeteta\n",
    "- Čvor s dva podatka ima uvijek tri djeteta\n",
    "- Čvor s tri podataka ima uvijek četiri djeteta"
   ]
  },
  {
   "cell_type": "markdown",
   "metadata": {},
   "source": [
    "##### 11. Objasnite temeljne razlike između struktura niza (dinamičkog polja) i povezane liste.\n",
    "\n",
    "- U nizu su elementi pohranjeni na susjednim memorijskim lokacijama, dok u povezanoj listi nisu.\n",
    "- U čvoru povezane liste je jedan element vrijednost, a drugi element memorijska lokacija slijedećeg čvora\n",
    "- Indeksiranje niza je $O(1)$, povezane liste je $O(n)$"
   ]
  },
  {
   "cell_type": "markdown",
   "metadata": {},
   "source": [
    "# Teorija - Kolokvij 2"
   ]
  },
  {
   "cell_type": "markdown",
   "metadata": {},
   "source": [
    "##### 1. Ako je usmjereni graf zadan listom bridova (M, L), (N, T), (R, T), (S, K), (S, M), (S, R), (U, P), (V, M), (V, Z), (W, J), (W, N) ispisati redoslijed obilaska vrhova prilikom obilaska grafa:\n",
    "\n",
    "- po širini\n",
    "- po dubini"
   ]
  },
  {
   "cell_type": "code",
   "execution_count": 13,
   "metadata": {},
   "outputs": [
    {
     "data": {
      "image/png": "[encoded data removed]",
      "text/plain": [
       "<Figure size 640x480 with 1 Axes>"
      ]
     },
     "metadata": {},
     "output_type": "display_data"
    }
   ],
   "source": [
    "lista = [('M', 'L'), ('N', 'T'), ('R', 'T'), ('S', 'K'), ('S', 'M'), ('S', 'R'), ('U', 'P'), ('V', 'M'), ('V', 'Z'), ('W', 'J'), ('W', 'N')]\n",
    "\n",
    "graph = nx.Graph(lista)\n",
    "nx.draw_networkx(graph)"
   ]
  },
  {
   "cell_type": "markdown",
   "metadata": {},
   "source": [
    "##### 2. Potpuni bipartitni graf?\n",
    "\n",
    "- svaki vrh jednog skupa je spojen na svaki vrh drugog skupa"
   ]
  },
  {
   "cell_type": "markdown",
   "metadata": {},
   "source": [
    "##### 4. Gustoća neusmjerenog grafa?\n",
    "\n",
    "- $\\frac{2E}{V \\cdot (V - 1)}$"
   ]
  },
  {
   "cell_type": "markdown",
   "metadata": {},
   "source": [
    "##### 5. Osobitosti implementacije B+ stabla?\n",
    "- Podaci se pospremaju na razini lista\n",
    "- Listovi su povezani (kao povezana lista) (omogućen slijedni pristup)"
   ]
  },
  {
   "cell_type": "markdown",
   "metadata": {},
   "source": [
    "##### 6. Razlika i namjena R-stabla u odnosu na B-stabla?\n",
    "\n",
    "- koriste za pristup prostornim podacima, primjerice za indeksiranje višedimenzionalnih informacija¸\n",
    "- Podatkovna struktura dijeli prostor s hijerarhijskim ugnježđivanjem i ako je moguće preklapanjem, kao minimalni ograničeni pravokutnik\n",
    "- Visina je uvijek log n (balansirano po visini)"
   ]
  },
  {
   "cell_type": "markdown",
   "metadata": {},
   "source": [
    "##### 8. Koja svojstva ima Rabin-Karp algoritam u svrhu optimizacije pretraživanja?\n",
    "\n",
    "- hash funkcija:\n",
    "- uzima u obzir poziciju znaka unutar teksta\n",
    "- koristi „jeftiniju” rehash funkciju"
   ]
  },
  {
   "cell_type": "markdown",
   "metadata": {},
   "source": [
    "##### 9. Minimax?"
   ]
  }
 ],
 "metadata": {
  "kernelspec": {
   "display_name": "Python_venv",
   "language": "python",
   "name": "python3"
  },
  "language_info": {
   "codemirror_mode": {
    "name": "ipython",
    "version": 3
   },
   "file_extension": ".py",
   "mimetype": "text/x-python",
   "name": "python",
   "nbconvert_exporter": "python",
   "pygments_lexer": "ipython3",
   "version": "3.11.4"
  }
 },
 "nbformat": 4,
 "nbformat_minor": 2
}
