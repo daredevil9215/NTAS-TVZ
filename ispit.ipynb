{
 "cells": [
  {
   "cell_type": "code",
   "execution_count": 1,
   "metadata": {},
   "outputs": [],
   "source": [
    "import heapq\n",
    "import networkx as nx\n",
    "import contextlib\n",
    "import matplotlib.pyplot as plt\n",
    "\n",
    "def draw_weighted_graph(graph: nx.Graph, graph_dict: dict) -> None:\n",
    "\n",
    "    for i,j in graph.edges():\n",
    "        graph[i][j]['weight'] = graph_dict[i][j]\n",
    "\n",
    "    weight_labels = nx.get_edge_attributes(graph,'weight')\n",
    "    pos = nx.spring_layout(graph)\n",
    "\n",
    "    fig, ax = plt.subplots(figsize=(8, 6))\n",
    "    nx.draw(graph,pos, with_labels = True)\n",
    "    with contextlib.redirect_stdout(None):\n",
    "        nx.draw_networkx_edge_labels(graph, pos, edge_labels=weight_labels, font_size=7)\n",
    "\n",
    "def dijkstra(graph, start):\n",
    "    # Priority queue to store (cost, vertex) tuples\n",
    "    priority_queue = [(0, start)]\n",
    "    # Dictionary to store the shortest path to each vertex\n",
    "    shortest_paths = {vertex: float('inf') for vertex in graph}\n",
    "    # Start vertex has a distance of 0 from itself\n",
    "    shortest_paths[start] = 0\n",
    "    # Dictionary to store the previous node on the shortest path\n",
    "    previous_nodes = {vertex: None for vertex in graph}\n",
    "\n",
    "    while priority_queue:\n",
    "        # Get the vertex with the smallest distance\n",
    "        current_distance, current_vertex = heapq.heappop(priority_queue)\n",
    "\n",
    "        # If the distance of the current vertex is greater than the recorded shortest path, skip it\n",
    "        if current_distance > shortest_paths[current_vertex]:\n",
    "            continue\n",
    "\n",
    "        # Check the neighbors of the current vertex\n",
    "        for neighbor, weight in graph[current_vertex].items():\n",
    "            distance = current_distance + weight\n",
    "\n",
    "            # If a shorter path to the neighbor is found\n",
    "            if distance < shortest_paths[neighbor]:\n",
    "                shortest_paths[neighbor] = distance\n",
    "                previous_nodes[neighbor] = current_vertex\n",
    "                heapq.heappush(priority_queue, (distance, neighbor))\n",
    "\n",
    "    # Reconstruct the shortest path for each vertex\n",
    "    paths = {}\n",
    "    for vertex in graph:\n",
    "        path = []\n",
    "        current = vertex\n",
    "        while current is not None:\n",
    "            path.append(current)\n",
    "            current = previous_nodes[current]\n",
    "        path.reverse()\n",
    "        paths[vertex] = path\n",
    "\n",
    "    return shortest_paths, paths"
   ]
  },
  {
   "cell_type": "code",
   "execution_count": 2,
   "metadata": {},
   "outputs": [],
   "source": [
    "class BSTree:\n",
    "    class Node:\n",
    "        def __init__(self, val, left=None, right=None):\n",
    "            self.val = val\n",
    "            self.left = left\n",
    "            self.right = right\n",
    "            \n",
    "        def rotate_right(self):\n",
    "            n = self.left\n",
    "            self.val, n.val = n.val, self.val\n",
    "            self.left, n.left, self.right, n.right = n.left, n.right, n, self.right\n",
    "        \n",
    "        def rotate_left(self):\n",
    "            n = self.right\n",
    "            self.val, n.val = n.val, self.val\n",
    "            #print(self.left,n.left)\n",
    "            self.right, n.right, self.left, n.left = n.right, n.left, n, self.left\n",
    "         \n",
    "        @staticmethod\n",
    "        def height(n):\n",
    "            if not n:\n",
    "                return -1\n",
    "            else:\n",
    "                return max(1+BSTree.Node.height(n.left), 1+BSTree.Node.height(n.right))\n",
    "            \n",
    "    def __init__(self):\n",
    "        self.size = 0\n",
    "        self.root = None\n",
    "    \n",
    "    def __contains__(self, val):\n",
    "        def contains_rec(node):\n",
    "            if not node:\n",
    "                return False\n",
    "            elif val < node.val:\n",
    "                return contains_rec(node.left)\n",
    "            elif val > node.val:\n",
    "                return contains_rec(node.right)\n",
    "            else:\n",
    "                return True\n",
    "        return contains_rec(self.root)\n",
    "    \n",
    "    def __len__(self):\n",
    "        return self.size\n",
    "        \n",
    "    def pprint(self, width=64):\n",
    "        \"\"\" (Lijepi) ispis stabla.\"\"\"\n",
    "        height = self.height()\n",
    "        print(height)\n",
    "        nodes  = [(self.root, 0)]\n",
    "        prev_level = 0\n",
    "        repr_str = ''\n",
    "        while nodes:\n",
    "            n,level = nodes.pop(0)\n",
    "            if prev_level != level:\n",
    "                prev_level = level\n",
    "                repr_str += '\\n'\n",
    "            if not n:\n",
    "                if level < height:\n",
    "                    nodes.extend([(None, level+1), (None, level+1)])\n",
    "                repr_str += '{val:^{width}}'.format(val='-', width=width//2**level)\n",
    "            elif n:\n",
    "                if n.left or level < height:\n",
    "                    nodes.append((n.left, level+1))\n",
    "                if n.right or level < height:\n",
    "                    nodes.append((n.right, level+1))\n",
    "                repr_str += '{val:^{width}}'.format(val=n.val, width=width//2**level)\n",
    "        print(repr_str)\n",
    "    \n",
    "    def height(self):\n",
    "        \"\"\"Visina čvora.\"\"\"\n",
    "        def height_rec(t):\n",
    "            if not t:\n",
    "                return -1\n",
    "            else:\n",
    "                return max(1+height_rec(t.left), 1+height_rec(t.right))\n",
    "        return height_rec(self.root)\n",
    "    \n",
    "    \"\"\"\n",
    "    Statička metoda za balansiranje\n",
    "    \"\"\"\n",
    "    @staticmethod\n",
    "    def rebalance(t):\n",
    "\n",
    "        \"\"\"\n",
    "        Slučajevi 1 ili 3\n",
    "        Visina lijevog podstabla je veća od visine desnog podstabla \n",
    "        \"\"\"\n",
    "\n",
    "        if BSTree.Node.height(t.left) > BSTree.Node.height(t.right):\n",
    "\n",
    "            \"\"\"\n",
    "            Slučaj - lijevo-lijevo otežanost ili lijevo-desno otežanost\n",
    "            \"\"\"\n",
    "\n",
    "            if BSTree.Node.height(t.left.left) >= BSTree.Node.height(t.left.right):\n",
    "                # left-left\n",
    "                #print('left-left imbalance detected ',  t.val)\n",
    "                t.rotate_right()\n",
    "\n",
    "            else:\n",
    "                # left-right\n",
    "                #print('left-right imbalance detected ', t.val)\n",
    "                t.left.rotate_left()\n",
    "                t.rotate_right()\n",
    "  \n",
    "            \"\"\"\n",
    "            ZADATAK 1\n",
    "            Dopuniti potrebni kôd za ovaj slučaj\n",
    "\n",
    "        Slučajevi 2 ili 4\n",
    "        Visina desnog podstabla je veća od visine lijevog podstabla \n",
    "            \"\"\" \n",
    "        else:\n",
    "\n",
    "            \"\"\"\n",
    "            Slučaj - desno-desno otežanost ili desno-lijevo otežanost\n",
    "            \"\"\"\n",
    "                   \n",
    "            if BSTree.Node.height(t.right.right) >= BSTree.Node.height(t.right.left):\n",
    "                # right-right\n",
    "                #print('right-right imbalance detected ',  t.val)\n",
    "                t.rotate_left()\n",
    "            else:\n",
    "                # right-left\n",
    "                #print('right-left imbalance detected ', t.val)\n",
    "                t.right.rotate_right()\n",
    "                t.rotate_left()\n",
    "        \n",
    "    # Metoda za umetanje u AVL stablo i balansiranje  \n",
    "    def add(self, val):\n",
    "        assert(val not in self)\n",
    "        def add_rec(node):\n",
    "            if not node:\n",
    "                return BSTree.Node(val)\n",
    "            elif val < node.val:\n",
    "                node.left = add_rec(node.left)\n",
    "            else:\n",
    "                node.right = add_rec(node.right)\n",
    "            \"\"\"\n",
    "            Uvjet za balansiranje\n",
    "            \"\"\"\n",
    "            if abs(BSTree.Node.height(node.left) - BSTree.Node.height(node.right)) >= 2:\n",
    "                BSTree.rebalance(node)\n",
    "            return node\n",
    "        self.root = add_rec(self.root)\n",
    "        self.size += 1\n",
    "        \n",
    "        \n",
    "        \"\"\"\n",
    "             ZADATAK 2 - napisati rekurzivne metode u klasi BSTree za obilazak stabla\n",
    "\n",
    "             Obilasci stabla:\n",
    "                - inorder   (left-root-right)\n",
    "                - preorder  (root-left-right)\n",
    "                - postorder (left-right-root)\n",
    "        \"\"\"\n",
    "        \n",
    "    def inorder(self, node):\n",
    "        if node == None:\n",
    "            return\n",
    "        self.inorder(node.left)\n",
    "        print(node.val)\n",
    "        self.inorder(node.right)\n",
    "            \n",
    "    def postorder(self, node):\n",
    "        if node == None:\n",
    "            return\n",
    "        self.postorder(node.left)\n",
    "        self.postorder(node.right)\n",
    "        print(node.val)\n",
    "           \n",
    "    def preorder(self, node):\n",
    "        if node == None:\n",
    "            return\n",
    "        print(node.val)\n",
    "        self.preorder(node.left)\n",
    "        self.preorder(node.right)\n",
    "\n",
    "\"\"\"\n",
    "Globalne funkcije izvan razreda za ispis minimalne i maksimalne vrijednosti u stablu\n",
    "\"\"\"        \n",
    "def minValue(node):\n",
    "    if node.left == None:\n",
    "        return node.val\n",
    "    return minValue(node.left)\n",
    "\n",
    "def maxValue(node):\n",
    "    if node.right == None:\n",
    "        return node.val\n",
    "    return maxValue(node.right)\n",
    "\n",
    "\n",
    "\"\"\"\n",
    "Globalne funkcije izvan razreda za ispis listova u stablu s lijeva na desno i s desna na lijevo\n",
    "\"\"\"     \n",
    "\n",
    "def ispisListova_L_R(root):\n",
    "    \n",
    "    if root == None:\n",
    "        return\n",
    "    \n",
    "    queue = []\n",
    "\n",
    "    queue.append(root)\n",
    "\n",
    "    while len(queue) > 0:\n",
    "\n",
    "        print(queue[0].val)\n",
    "        \n",
    "        node = queue.pop(0)\n",
    "\n",
    "        if node.left != None:\n",
    "            queue.append(node.left)\n",
    "\n",
    "        if node.right != None:\n",
    "            queue.append(node.right)\n",
    "\n",
    "               \n",
    "def ispisListova_R_L(root):\n",
    "    \n",
    "    if root == None:\n",
    "        return\n",
    "    \n",
    "    queue = []\n",
    "\n",
    "    queue.append(root)\n",
    "\n",
    "    while len(queue) > 0:\n",
    "\n",
    "        print(queue[0].val)\n",
    "        \n",
    "        node = queue.pop(0)\n",
    "\n",
    "        if node.right != None:\n",
    "            queue.append(node.right)\n",
    "\n",
    "        if node.left != None:\n",
    "            queue.append(node.left)\n"
   ]
  },
  {
   "cell_type": "code",
   "execution_count": 3,
   "metadata": {},
   "outputs": [],
   "source": [
    "class DataItem:\n",
    "\n",
    "\tdef __init__(self, dd):\t#special method to create objects\n",
    "\t#with instances customized to a specific initial state\n",
    "\t\tself.dData = dd#one piece of data\n",
    "\n",
    "\tdef displayItem(self):\t#format \" /27\"\n",
    "\t\tprint ('/', self.dData)\n",
    "#end class DataItem\n",
    "\n",
    "class Node:\n",
    "\t#as private instance variables don't exist in Python,\n",
    "\t#hence using a convention: name prefixed with an underscore, to treat them as non-public part\n",
    "\t_ORDER = 4\n",
    "\tdef __init__(self):\n",
    "\t\tself._numItems = 0\n",
    "\t\tself._pParent = None\n",
    "\t\tself._childArray = []\t#array of nodes\n",
    "\t\tself._itemArray = []\t#array of data\n",
    "\t\tfor j in range(self._ORDER):\t#initialize arrays\n",
    "\t\t\tself._childArray.append(None)\n",
    "\t\tfor k in range(self._ORDER - 1):\n",
    "\t\t\tself._itemArray.append(None)\n",
    "\n",
    "\t\t\t#connect child to this node\n",
    "\tdef connectChild(self, childNum, pChild):\n",
    "\t\tself._childArray[childNum] = pChild\n",
    "\t\tif pChild:\n",
    "\t\t\tpChild._pParent = self\n",
    "\n",
    "\t\t\t#disconnect child from this node, return it\n",
    "\tdef disconnectChild(self, childNum):\n",
    "\t\tpTempNode = self._childArray[childNum]\n",
    "\t\tself._childArray[childNum] = None\n",
    "\t\treturn pTempNode\n",
    "\n",
    "\tdef getChild(self, childNum):\n",
    "\t\treturn self._childArray[childNum]\n",
    "\n",
    "\tdef getParent(self):\n",
    "\t\treturn self._pParent\n",
    "\n",
    "\tdef isLeaf(self):\n",
    "\t\treturn not self._childArray[0]\n",
    "\n",
    "\tdef getNumItems(self):\n",
    "\t\treturn self._numItems\n",
    "\n",
    "\tdef getItem(self, index):\t#get DataItem at index\n",
    "\t\treturn self._itemArray[index]\n",
    "\n",
    "\tdef isFull(self):\n",
    "\t\treturn self._numItems==self._ORDER - 1\n",
    "\n",
    "\tdef findItem(self, key):\t#return index of\n",
    "\t\tfor j in range(self._ORDER-1):\t#item (within node)\n",
    "\t\t\tif not self._itemArray[j]:\t#if found,\n",
    "\t\t\t\tbreak\t#otherwise,\n",
    "\t\t\telif self._itemArray[j].dData == key:\t#return -1\n",
    "\t\t\t\treturn j\n",
    "\t\treturn -1\n",
    "\t#end findItem\n",
    "\n",
    "\tdef insertItem(self, pNewItem):\n",
    "\t\t#assumes node is not full\n",
    "\t\tself._numItems += 1#will add new item\n",
    "\t\tnewKey = pNewItem.dData\t#key of new item\n",
    "\n",
    "\t\tfor j in reversed(range(self._ORDER-1)):\t#start on right,\t#examine items\n",
    "\t\t\tif self._itemArray[j] == None:\t#if item null,\n",
    "\t\t\t\tpass\t#go left one cell\n",
    "\t\t\telse:\t#not null,\n",
    "\t\t\t\titsKey = self._itemArray[j].dData\t#get its key\n",
    "\t\t\t\tif newKey < itsKey:\t#if it's bigger\n",
    "\t\t\t\t\tself._itemArray[j+1] = self._itemArray[j]\t#shift it right\n",
    "\t\t\t\telse:\n",
    "\t\t\t\t\tself._itemArray[j+1] = pNewItem\t#insert new item\n",
    "\t\t\t\t\treturn j+1#return index to new item\n",
    "\t\t\t#end else (not null)\n",
    "\t\t#end for \t#shifted all items,\n",
    "\t\tself._itemArray[0] = pNewItem\t#insert new item\n",
    "\t\treturn 0\n",
    "\t#end insertItem()\n",
    "\n",
    "\tdef removeItem(self):\t#remove largest item\n",
    "\t\t#assumes node not empty\n",
    "\t\tpTemp = self._itemArray[self._numItems-1]\t#save item\n",
    "\t\tself._itemArray[self._numItems-1] = None\t#disconnect it\n",
    "\t\tself._numItems -= 1#one less item\n",
    "\t\treturn pTemp#return item\n",
    "\n",
    "\tdef displayNode(self):\t#format \"/24/56/74\"\n",
    "\t\tfor j in range(self._numItems):\n",
    "\t\t\tself._itemArray[j].displayItem()\t#format \"/56\"\n",
    "\t\tprint ('/')\t#final \"/\"\n",
    "\n",
    "#end class Node\n",
    "\n",
    "class Tree234:\n",
    "\t#as private instance variables don't exist in Python,\n",
    "\t#hence using a convention: name prefixed with an underscore, to treat them as non-public part\n",
    "\tdef __init__(self):\n",
    "\t\tself._pRoot = Node()\t#root node\n",
    "\n",
    "\tdef find(self, key):\n",
    "\t\tpCurNode = self._pRoot\t#start at root\n",
    "\t\twhile True:\n",
    "\t\t\tchildNumber=pCurNode.findItem(key)\n",
    "\t\t\tif childNumber != -1:\n",
    "\t\t\t\treturn childNumber\t#found it\n",
    "\t\t\telif pCurNode.isLeaf():\n",
    "\t\t\t\treturn -1#can't find it\n",
    "\t\t\telse:\t#search deeper\n",
    "\t\t\t\tpCurNode = self.getNextChild(pCurNode, key)\n",
    "\t\t#end while\n",
    "\n",
    "\tdef insert(self, dValue):\t#insert a DataItem\n",
    "\t\tpCurNode = self._pRoot\n",
    "\t\tpTempItem = DataItem(dValue)\n",
    "\n",
    "\t\twhile True:\n",
    "\t\t\tif pCurNode.isFull():\t#if node full,\n",
    "\t\t\t\tself.split(pCurNode)\t#split it\n",
    "\t\t\t\tpCurNode = pCurNode.getParent()\t#back up\n",
    "\t\t\t\t\t#search once\n",
    "\t\t\t\tpCurNode = self.getNextChild(pCurNode, dValue)\n",
    "\t\t\t#end if(node is full)\n",
    "\n",
    "\t\t\telif pCurNode.isLeaf():\t#if node is leaf,\n",
    "\t\t\t\tbreak\t#go insert\n",
    "\t\t\t#node is not full, not a leaf; so go to lower level\n",
    "\t\t\telse:\n",
    "\t\t\t\tpCurNode = self.getNextChild(pCurNode, dValue)\n",
    "\t\t#end while\n",
    "\t\tpCurNode.insertItem(pTempItem)\t#insert new item\n",
    "\t#end insert()\n",
    "\n",
    "\tdef split(self, pThisNode):\t#split the node\n",
    "\t\t#assumes node is full\n",
    "\t\t\n",
    "\t\tpItemC = pThisNode.removeItem()\t#remove items from\n",
    "\t\tpItemB = pThisNode.removeItem()\t#this node\n",
    "\t\tpChild2 = pThisNode.disconnectChild(2)\t#remove children\n",
    "\t\tpChild3 = pThisNode.disconnectChild(3)\t#from this node\n",
    "\n",
    "\t\tpNewRight = Node()\t#make new node\n",
    "\n",
    "\t\tif pThisNode == self._pRoot:\t#if this is the root,\n",
    "\t\t\tself._pRoot = Node()\t#make new root\n",
    "\t\t\tpParent = self._pRoot\t#root is our parent\n",
    "\t\t\tself._pRoot.connectChild(0, pThisNode)\t#connect to parent\n",
    "\t\telse:\t#this node not the root\n",
    "\t\t\tpParent = pThisNode.getParent()\t#get parent\n",
    "\n",
    "\t\t#deal with parent\n",
    "\t\titemIndex = pParent.insertItem(pItemB)\t#item B to parent\n",
    "\t\tn = pParent.getNumItems()\t#total items?\n",
    "\n",
    "\t\tj = n-1#move parent's\n",
    "\t\twhile j > itemIndex:\t#connections\n",
    "\t\t\tpTemp = pParent.disconnectChild(j)\t#one child\n",
    "\t\t\tpParent.connectChild(j+1, pTemp)\t#to the right\n",
    "\t\t\tj -= 1\n",
    "\t\t\t\t#connect newRight to parent\n",
    "\t\tpParent.connectChild(itemIndex+1, pNewRight)\n",
    "\n",
    "\t\t#deal with newRight\n",
    "\t\tpNewRight.insertItem(pItemC)\t#item C to newRight\n",
    "\t\tpNewRight.connectChild(0, pChild2)\t#connect to 0 and 1\n",
    "\t\tpNewRight.connectChild(1, pChild3)\t#on newRight\n",
    "\t#end split()\n",
    "\n",
    "\t#gets appropriate child of node during search of value\n",
    "\tdef getNextChild(self, pNode, theValue):\n",
    "\t\t#assumes node is not empty, not full, not a leaf\n",
    "\t\tnumItems = pNode.getNumItems()\n",
    "\t\t\n",
    "\t\tfor j in range(numItems):\t#for each item in node\n",
    "\t\t\tif theValue < pNode.getItem(j).dData:\t#are we less?\n",
    "\t\t\t\treturn pNode.getChild(j)\t#return left child\n",
    "\t\telse:\t#end for \t#we're greater, so\n",
    "\t\t\treturn pNode.getChild(j + 1)\t#return right child\n",
    "\n",
    "\tdef displayTree(self):\n",
    "\t\tself.recDisplayTree(self._pRoot, 0, 0)\n",
    "\n",
    "\tdef recDisplayTree(self, pThisNode, level, childNumber):\n",
    "\t\tprint ('level=', level, 'child=', childNumber)\n",
    "\t\tpThisNode.displayNode()\t#display this node\n",
    "\n",
    "\t\t#call ourselves for each child of this node\n",
    "\t\tnumItems = pThisNode.getNumItems()\n",
    "\t\tfor j in range(numItems+1):\n",
    "\t\t\tpNextNode = pThisNode.getChild(j)\n",
    "\t\t\tif pNextNode:\n",
    "\t\t\t\tself.recDisplayTree(pNextNode, level+1, j)\n",
    "\t\t\telse:\n",
    "\t\t\t\treturn"
   ]
  },
  {
   "cell_type": "markdown",
   "metadata": {},
   "source": [
    "# AVL stablo"
   ]
  },
  {
   "cell_type": "code",
   "execution_count": 4,
   "metadata": {},
   "outputs": [
    {
     "name": "stdout",
     "output_type": "stream",
     "text": [
      "3\n",
      "                               34                               \n",
      "               17                              46               \n",
      "       15              30              38              50       \n",
      "   5       16      25      33      -       39      47      -    \n"
     ]
    }
   ],
   "source": [
    "# Kreiranje AVL balansiranog stabla iz liste, iscrtavanje stabla i ispis visine\n",
    "t = BSTree()\n",
    "# dodavanje u stablo iz liste\n",
    "for x in [15, 30, 17,33, 25, 16, 46, 34, 5, 38, 50, 47, 39]:\n",
    "    t.add(x)\n",
    "\n",
    "# crtanje stabla\n",
    "t.pprint()"
   ]
  },
  {
   "cell_type": "code",
   "execution_count": 5,
   "metadata": {},
   "outputs": [
    {
     "name": "stdout",
     "output_type": "stream",
     "text": [
      "[26, 2, 77, 75, 39, 78, 85, 34, 30, 25]\n",
      "[78, 78, 78]\n"
     ]
    }
   ],
   "source": [
    "import random\n",
    "\n",
    "a = [26, 2, 77, 75, 39, 78, 85, 34, 30, 25]\n",
    "print(a)\n",
    "\n",
    "b = [a[random.randint(0, len(a)-1)] for _ in range(3)]\n",
    "print(b)"
   ]
  },
  {
   "cell_type": "markdown",
   "metadata": {},
   "source": [
    "# Crveno-crno"
   ]
  },
  {
   "cell_type": "code",
   "execution_count": 6,
   "metadata": {},
   "outputs": [
    {
     "name": "stdout",
     "output_type": "stream",
     "text": [
      "[26, 2, 77, 75, 39, 78, 85, 34, 30, 25]\n"
     ]
    }
   ],
   "source": [
    "a = [26, 2, 77, 75, 39, 78, 85, 34, 30, 25]\n",
    "print(a)"
   ]
  },
  {
   "cell_type": "markdown",
   "metadata": {},
   "source": [
    "# Hash"
   ]
  },
  {
   "cell_type": "code",
   "execution_count": 7,
   "metadata": {},
   "outputs": [
    {
     "data": {
      "text/plain": [
       "'kljucevi = [46, 98, 5, 84, 33, 89, 16, 47, 97, 18, 78, 32, 41, 6, 79, 77, 26, 86, 3, 39, 99, 87, 92]\\n\\ndef h(k: int) -> int:\\n    return k % 7\\n\\nvelicina_tablice = 7\\n\\ntablica = {x: [] for x in range(velicina_tablice)}\\n\\nfor k in kljucevi:\\n    index = h(k)\\n    tablica[index].append(k)\\n\\nfor pretinac in tablica:\\n    print(f\\'Pretinac {pretinac}: {tablica[pretinac]}\\')\\n\\nprint(\"\\n86 - 3 provjere\")\\nprint(\"39 - 4 provjere\")\\nprint(\"3 - 1 provjera\")\\nprint(\"87 - 2 provjere\")'"
      ]
     },
     "execution_count": 7,
     "metadata": {},
     "output_type": "execute_result"
    }
   ],
   "source": [
    "\"\"\"kljucevi = [46, 98, 5, 84, 33, 89, 16, 47, 97, 18, 78, 32, 41, 6, 79, 77, 26, 86, 3, 39, 99, 87, 92]\n",
    "\n",
    "def h(k: int) -> int:\n",
    "    return k % 7\n",
    "\n",
    "velicina_tablice = 7\n",
    "\n",
    "tablica = {x: [] for x in range(velicina_tablice)}\n",
    "\n",
    "for k in kljucevi:\n",
    "    index = h(k)\n",
    "    tablica[index].append(k)\n",
    "\n",
    "for pretinac in tablica:\n",
    "    print(f'Pretinac {pretinac}: {tablica[pretinac]}')\n",
    "\n",
    "print(\"\\n86 - 3 provjere\")\n",
    "print(\"39 - 4 provjere\")\n",
    "print(\"3 - 1 provjera\")\n",
    "print(\"87 - 2 provjere\")\"\"\""
   ]
  },
  {
   "cell_type": "code",
   "execution_count": 8,
   "metadata": {},
   "outputs": [
    {
     "name": "stdout",
     "output_type": "stream",
     "text": [
      "Pretinac 0: 86\n",
      "Pretinac 1: 96\n",
      "Pretinac 2: 68\n",
      "Pretinac 3: 79\n",
      "Pretinac 4: 3\n",
      "Pretinac 5: 61\n",
      "Pretinac 6: 77\n",
      "Pretinac 7: 45\n",
      "Pretinac 8: 76\n",
      "Pretinac 9: 73\n",
      "Pretinac 10: 10\n",
      "\n",
      "'FF595' se nalazi u pretincu 5\n",
      "'WE969' se nalazi u pretincu 4\n",
      "'AL439' se nalazi u pretincu 1\n",
      "'CA346' se nalazi u pretincu 17\n",
      "'IU407' se nalazi u pretincu 18\n"
     ]
    }
   ],
   "source": [
    "podaci = ['LW293', 'AF721', 'AO434', 'NE073', 'WT433', 'TT315', 'LA599', 'WE969', 'FF595', 'CA346', 'IU407', 'HD179', 'AL439']\n",
    "podaci = [79, 10, 86, 45, 3, 61, 96, 68, 77, 76, 73]\n",
    "\n",
    "def h_crta(k: int) -> int:\n",
    "    return k % 19\n",
    "\n",
    "def h(k: int, i: int) -> int:\n",
    "    return (h_crta(k) + i) % 11\n",
    "\n",
    "def pretvori_tekst_u_broj(tekst: str) -> int:\n",
    "    zbroj = sum([ord(slovo) for slovo in tekst])\n",
    "    return zbroj\n",
    "\n",
    "velicina_tablice = 11\n",
    "tablica = {x: 0 for x in range(velicina_tablice)}\n",
    "\n",
    "for p in podaci:\n",
    "\n",
    "    #k = pretvori_tekst_u_broj(p)\n",
    "\n",
    "    for i in range(velicina_tablice):\n",
    "        index = h(p, i)\n",
    "\n",
    "        if tablica[index] == 0:\n",
    "            tablica[index] = p\n",
    "            break\n",
    "\n",
    "for t in tablica:\n",
    "    print(f'Pretinac {t}: {tablica[t]}')\n",
    "\n",
    "print(f\"\\n'FF595' se nalazi u pretincu 5\")\n",
    "print(f\"'WE969' se nalazi u pretincu 4\")\n",
    "print(f\"'AL439' se nalazi u pretincu 1\")\n",
    "print(f\"'CA346' se nalazi u pretincu 17\")\n",
    "print(f\"'IU407' se nalazi u pretincu 18\")"
   ]
  },
  {
   "cell_type": "markdown",
   "metadata": {},
   "source": [
    "# BTree"
   ]
  },
  {
   "cell_type": "code",
   "execution_count": 9,
   "metadata": {},
   "outputs": [
    {
     "name": "stdout",
     "output_type": "stream",
     "text": [
      "level= 0 child= 0\n",
      "/ 50\n",
      "/\n",
      "level= 1 child= 0\n",
      "/ 30\n",
      "/\n",
      "level= 2 child= 0\n",
      "/ 10\n",
      "/ 20\n",
      "/ 25\n",
      "/\n",
      "level= 2 child= 1\n",
      "/ 40\n",
      "/\n",
      "level= 1 child= 1\n",
      "/ 80\n",
      "/\n",
      "level= 2 child= 0\n",
      "/ 70\n",
      "/ 75\n",
      "/\n",
      "level= 2 child= 1\n",
      "/ 90\n",
      "/\n"
     ]
    }
   ],
   "source": [
    "pTree = Tree234()\n",
    "lista = [70, 50, 30, 40, 20, 80, 25, 90, 75, 10]\n",
    "for l in lista:\n",
    "\tpTree.insert(l)\n",
    "pTree.displayTree()"
   ]
  },
  {
   "cell_type": "markdown",
   "metadata": {},
   "source": [
    "# Dijsktra"
   ]
  },
  {
   "cell_type": "code",
   "execution_count": 10,
   "metadata": {},
   "outputs": [
    {
     "data": {
      "image/png": "[encoded data removed]",
      "text/plain": [
       "<Figure size 800x600 with 1 Axes>"
      ]
     },
     "metadata": {},
     "output_type": "display_data"
    }
   ],
   "source": [
    "graph = {\n",
    "    'A': {'B': 1.9, 'D': 1.46, 'E': 1.01},\n",
    "    'B': {'A': 1.9, 'C': 0.54, 'E': 0.05},\n",
    "    'C': {'B': 0.54, 'E': 1.18, 'F': 0.37},\n",
    "    'D': {'A': 1.46, 'E': 0.17, 'G': 0.73},\n",
    "    'E': {'A': 1.01, 'B': 0.05, 'C': 1.18, 'D': 0.17, 'F': 0.28, 'G': 1.79, 'H': 1.76, 'I': 0.78},\n",
    "    'F': {'C': 0.37, 'E': 0.28, 'I': 1.78},\n",
    "    'G': {'D': 0.73, 'E': 1.79, 'H': 0.49},\n",
    "    'H': {'E': 1.76, 'G': 0.49, 'I': 1.69},\n",
    "    'I': {'E': 0.78, 'F': 1.78, 'H': 1.69}\n",
    "}\n",
    "\n",
    "nx_graph = nx.Graph(graph)\n",
    "draw_weighted_graph(nx_graph, graph)"
   ]
  },
  {
   "cell_type": "code",
   "execution_count": 11,
   "metadata": {},
   "outputs": [
    {
     "name": "stdout",
     "output_type": "stream",
     "text": [
      "{'A': 0, 'B': 1.06, 'C': 1.6, 'D': 1.18, 'E': 1.01, 'F': 1.29, 'G': 1.91, 'H': 2.4, 'I': 1.79}\n",
      "{'A': ['A'], 'B': ['A', 'E', 'B'], 'C': ['A', 'E', 'B', 'C'], 'D': ['A', 'E', 'D'], 'E': ['A', 'E'], 'F': ['A', 'E', 'F'], 'G': ['A', 'E', 'D', 'G'], 'H': ['A', 'E', 'D', 'G', 'H'], 'I': ['A', 'E', 'I']}\n"
     ]
    }
   ],
   "source": [
    "a, b = dijkstra(graph, 'A')\n",
    "print(a)\n",
    "print(b)"
   ]
  },
  {
   "cell_type": "markdown",
   "metadata": {},
   "source": [
    "***"
   ]
  },
  {
   "cell_type": "markdown",
   "metadata": {},
   "source": [
    "# Teorija - Kolokvij 1"
   ]
  },
  {
   "cell_type": "markdown",
   "metadata": {},
   "source": [
    "##### 1. Navedite podjelu osnovnih algoritama sortiranja po naravi (iterativni, rekurzivni) i složenosti u O-notaciji.\n",
    "\n",
    "- iterativni \n",
    "    - Bubble sort - najbolji $O(n)$, najgori $O(n^2)$\n",
    "    - Selection sort - $O(n^2)$ u oba\n",
    "    - Insertion sort - najbolji $O(n)$, najgori $O(n^2)$\n",
    "\n",
    "- rekurzivni\n",
    "    - Merge sort - $O(n \\log n)$ u oba\n",
    "    - Quick sort - najbolji $O(n \\log n)$, najgori $O(n^2)$"
   ]
  },
  {
   "cell_type": "markdown",
   "metadata": {},
   "source": [
    "##### 2. Složenost operacije prespajanja čvorova prilikom rotacija AVL stabla ?\n",
    "- $O(1)$"
   ]
  },
  {
   "cell_type": "markdown",
   "metadata": {},
   "source": [
    "##### 4. Ako se crveno-crno stablo sastoji od $n$ čvorova, koja je najveća moguća visina takvog stabla?\n",
    "- $h \\leq 2 \\log_2(n + 1)$ => visina je reda $O(\\log n)$"
   ]
  },
  {
   "cell_type": "markdown",
   "metadata": {},
   "source": [
    "##### 6. Koja su temeljna svojstva izražena u pojmu invarijantnosti kod crveno crnog stabla?\n",
    "- Invarijantnost uređenosti - lijevo manji, desno veći\n",
    "- Invarijantnost visine - broj crnih čvorova na svakom putu od korijena do svakog lista mora biti jednak\n",
    "- Invarijantnost boje - dva uzastopna čvora nisu crvena"
   ]
  },
  {
   "cell_type": "markdown",
   "metadata": {},
   "source": [
    "##### 7. Kakve vrste unutrašnjih čvorova (koji nisu listovi) se razlikuju u 2-3-4 stablu s obzirom na broj pohranjenih podataka i broj čvorova djece?\n",
    "\n",
    "- Čvor s jednim podatkom ima uvijek dva djeteta\n",
    "- Čvor s dva podatka ima uvijek tri djeteta\n",
    "- Čvor s tri podataka ima uvijek četiri djeteta"
   ]
  },
  {
   "cell_type": "markdown",
   "metadata": {},
   "source": [
    "##### 11. Objasnite temeljne razlike između struktura niza (dinamičkog polja) i povezane liste.\n",
    "\n",
    "- U nizu su elementi pohranjeni na susjednim memorijskim lokacijama, dok u povezanoj listi nisu.\n",
    "- U čvoru povezane liste je jedan element vrijednost, a drugi element memorijska lokacija slijedećeg čvora\n",
    "- Indeksiranje niza je $O(1)$, povezane liste je $O(n)$"
   ]
  },
  {
   "cell_type": "markdown",
   "metadata": {},
   "source": [
    "***"
   ]
  },
  {
   "cell_type": "markdown",
   "metadata": {},
   "source": [
    "# Teorija - Kolokvij 2"
   ]
  },
  {
   "cell_type": "markdown",
   "metadata": {},
   "source": [
    "##### 1. Ako je usmjereni graf zadan listom bridova (M, L), (N, T), (R, T), (S, K), (S, M), (S, R), (U, P), (V, M), (V, Z), (W, J), (W, N) ispisati redoslijed obilaska vrhova prilikom obilaska grafa:\n",
    "\n",
    "- po širini\n",
    "- po dubini"
   ]
  },
  {
   "cell_type": "code",
   "execution_count": 12,
   "metadata": {},
   "outputs": [
    {
     "data": {
      "image/png": "[encoded data removed]",
      "text/plain": [
       "<Figure size 640x480 with 1 Axes>"
      ]
     },
     "metadata": {},
     "output_type": "display_data"
    }
   ],
   "source": [
    "lista = [('M', 'L'), ('N', 'T'), ('R', 'T'), ('S', 'K'), ('S', 'M'), ('S', 'R'), ('U', 'P'), ('V', 'M'), ('V', 'Z'), ('W', 'J'), ('W', 'N')]\n",
    "\n",
    "graph = nx.DiGraph(lista)\n",
    "nx.draw_networkx(graph)"
   ]
  },
  {
   "cell_type": "markdown",
   "metadata": {},
   "source": [
    "##### 2. Potpuni bipartitni graf?\n",
    "\n",
    "- svaki vrh jednog skupa je spojen na svaki vrh drugog skupa"
   ]
  },
  {
   "cell_type": "markdown",
   "metadata": {},
   "source": [
    "##### 4. Gustoća neusmjerenog grafa?\n",
    "\n",
    "- $\\frac{2E}{V \\cdot (V - 1)}$"
   ]
  },
  {
   "cell_type": "markdown",
   "metadata": {},
   "source": [
    "##### 5. Osobitosti implementacije B+ stabla?\n",
    "- Podaci se pospremaju na razini lista\n",
    "- Listovi su povezani (kao povezana lista) (omogućen slijedni pristup)"
   ]
  },
  {
   "cell_type": "markdown",
   "metadata": {},
   "source": [
    "##### 6. Razlika i namjena R-stabla u odnosu na B-stabla?\n",
    "\n",
    "- koriste za pristup prostornim podacima, primjerice za indeksiranje višedimenzionalnih informacija¸\n",
    "- Podatkovna struktura dijeli prostor s hijerarhijskim ugnježđivanjem i ako je moguće preklapanjem, kao minimalni ograničeni pravokutnik\n",
    "- Visina je uvijek log n (balansirano po visini)"
   ]
  },
  {
   "cell_type": "markdown",
   "metadata": {},
   "source": [
    "##### 8. Koja svojstva ima Rabin-Karp algoritam u svrhu optimizacije pretraživanja?\n",
    "\n",
    "- hash funkcija:\n",
    "- uzima u obzir poziciju znaka unutar teksta\n",
    "- koristi „jeftiniju” rehash funkciju"
   ]
  },
  {
   "cell_type": "markdown",
   "metadata": {},
   "source": [
    "##### 9. Minimax?"
   ]
  },
  {
   "cell_type": "markdown",
   "metadata": {},
   "source": [
    "***"
   ]
  },
  {
   "cell_type": "markdown",
   "metadata": {},
   "source": [
    "# Teorija - ostalo"
   ]
  },
  {
   "cell_type": "markdown",
   "metadata": {},
   "source": [
    "## AVL\n",
    "\n",
    "- samobalansirajuće binarno stablo pretraživanja\n",
    "\n",
    "- podstabla svakog čvora razlikuju se u visini najviše za 1\n",
    "\n",
    "- svako podstablo je AVL stablo\n",
    "\n",
    "- Otežanost = visina podstabla je za jedan veća od suprotnog podstabla\n",
    "\n",
    "- Uravnoteženost – visina ~ log n - operacije logn\n",
    "\n",
    "- Brže pretraživanje u odnosu na obično binarno stablo pretraživanja"
   ]
  },
  {
   "cell_type": "markdown",
   "metadata": {},
   "source": [
    "## Crveno-crno\n",
    "\n",
    "- podvrsta uređenog binarnog stabla\n",
    "\n",
    "- cvor sadrzi informaciju o boji (crven ili crn)\n",
    "\n",
    "        Svojstva\n",
    "\n",
    "        1. Svaki čvor je ili crven ili crn.\n",
    "        2. Korijen je uvijek crn.\n",
    "        3. Svaki list (stražarski) čvor je crn.\n",
    "        4. Crveni čvor može imati samo crnu djecu.\n",
    "        5. Svi putevi od svakog čvora do bilo kojeg čvora lista\n",
    "        sadrže isti broj crnih čvorova.\n",
    "\n",
    "- Čvoru koji nema neko od djece pridružuje se stražarski čvor\n",
    "\n",
    "- visina je 2 log 2 (n+1)\n",
    "\n",
    "- operacije su O(log n)\n",
    "\n",
    "- CC stabla su pogodnija (brža) za umetanje i brisanje od AVL, AVL je brzi za pretrazivanje"
   ]
  },
  {
   "cell_type": "markdown",
   "metadata": {},
   "source": [
    "## Indeksiranje\n",
    "\n",
    "- proces povezivanja ključa s položajem odgovarajućeg sloga podataka u bazi\n",
    "\n",
    "- oracle - btree visoki kardinalitet, bitmap niski\n",
    "\n",
    "- selektivnost = broj jedinstvenih vrijednosti indeksa/ukupan broj zapisa\n",
    "\n",
    "- B-stablo indeksi su stvoreni kako bi smanjili količinu I/O operacija\n",
    "potrebnih za pronalaženje i učitavanje skupa podataka.\n",
    "\n",
    "- Vrlo selektivni indeksi koristi najmanje I/O operacija, a slabo selektivni\n",
    "indeksi nisu puno bolji od skeniranja tablice."
   ]
  },
  {
   "cell_type": "markdown",
   "metadata": {},
   "source": [
    "## Hash funkcije\n",
    "\n",
    "- Mora biti deterministička – jednaki ključevi moraju proizvesti istu hash vrijednost\n",
    "\n",
    "- Mora biti učinkovita za računanje\n",
    "\n",
    "- Mora jednoliko raspodijeliti ključeve\n",
    "\n",
    "- Faktor opterećenja hash tablice: lambda = broj podataka/veličina tablice\n",
    "\n",
    "- hashiranje ulancavanjem - elementi koji slete u isti pretinac idu u povezanu listu\n",
    "\n",
    "- metoda dijeljenja - ostatak dijeljenja ključa k sa m (k mod m)\n",
    "\n",
    "- metoda mnozenja - floor(m(kA mod 1)) - k * A, uzmi decimalni ostatak, pomnozi s m, zaokruzi\n",
    "\n",
    "- otvoreno adresiranje - trazimo prazan pretinac ako je h(k, i) zauzet\n",
    "                       - odmah se posprema u tablicu\n",
    "                       - linearno (h(k) + i) mod m, kvadratno (h(k) + ci + di^2) mod m, dvostruko (h1(k) + i*h2(k)) mod m\n",
    "\n",
    "-  ulančavanje brže od ostalih metoda ako je faktor opterećenje hash tablice blizu 1, a otvoreno adresiranje je brže ako je faktor opterećenja manje od ½ (jer traži manji broj skokova)\n",
    "\n",
    "- hash tablica ima sve O(1)"
   ]
  },
  {
   "cell_type": "markdown",
   "metadata": {},
   "source": [
    "## Grafovi\n",
    "\n",
    "- vrhovi (tocke), bridovi (stranice)\n",
    "\n",
    "- Razapinjajuće stablo (engl. spanning tree) je podgraf koji sadrži sve vrhove grafa unutra jednog stabla i dovoljan broj bridova za spajanje svakog vrha bez ciklusa.\n",
    "\n",
    "- najveci broj bridova: $\\frac{V \\cdot (V - 1)}{2}$\n",
    "\n",
    "- gustoca: $\\frac{2E}{V \\cdot (V - 1)}$\n",
    "\n",
    "- stupanj - broj bridova koji ulaze/izlaze iz vrha\n",
    "\n",
    "- niz/sekvenca stupnjeva - sekvenca stupnjeva vrhova sortirana u padajućem redoslijedu\n",
    "\n",
    "- Dijametar - duljina najkraćeg puta između najudaljenijih vrhova, najprije se nađu svi najkraći putevi između svakog para vrhova. Najveća duljina od tih puteva je dijametar grafa\n",
    "\n",
    "- potpuni bipartitni graf - svaki vrh jednog skupa je spojen na svaki vrh drugog skupa\n",
    "\n",
    "- pohrana grafova - lista (skup) bridova, liste (skupovi) susjedstva, matrica susjedstva\n",
    "\n",
    "- obilazak po sirini -  Nakon što se obiđu svi vrhovi razine 1, obilaze se svi njihovi sljedbenici na razini 2, koristi se red\n",
    "\n",
    "- obilizak po dubini - koristi se stog, ide se sto je dublje moguce\n",
    "\n",
    "- Centralnost stupnja - Vrh koji moguće ima najviše informacija (broj susjeda nekog vrha / najveći mogući broj susjeda tog vrha)\n",
    "\n",
    "- Centralnost međupoloženosti vrha v je udio najkraćih puteva između svih parova vrhova koji prolaze kroz vrh v\n",
    "\n",
    "- bliskosti\n",
    "\n",
    "- svojstvena\n",
    "\n",
    "- vecina operacija je O(1), edges O(E), incidentEdges O(E)\n",
    "\n",
    "- Provjera topološke sortiranosti: Ako je matrica susjedstva gornja trokutasta matrica tada je graf topološki sortiran.\n",
    "\n",
    "- Graf je topološki sortiran ako za svaki par vrhova i,j vrijedi da je i <= j,"
   ]
  },
  {
   "cell_type": "markdown",
   "metadata": {},
   "source": [
    "## Dijkstra\n",
    "\n",
    "- za odabrani vrh -> pronalazak najkraćih puteva do svih ostalih vrhova\n",
    "\n",
    "- Svim vrhovima se razdaljine postave na INF, osim početnog"
   ]
  },
  {
   "cell_type": "markdown",
   "metadata": {},
   "source": [
    "## B stablo\n",
    "\n",
    "- Mnogi algoritmi i strukture podataka učinkoviti za manipulaciju u operativnoj memoriji nisu učinkoviti za manipulaciju s velikim podacima u sekundarnoj memoriji.\n",
    "\n",
    "- B-stablo je učinkovito kada se implementira kao stablo pretraživanja na disku\n",
    "\n",
    "- B-stablo je uvijek visoko izbalansirano sa svim list-čvorovima na istoj razini\n",
    "\n",
    "- B-stablo reda m - cvor ima najvise m djece\n",
    "\n",
    "- svaki čvor osim korijena mora imati najmanje m/2 (zaokruženo na više) djece\n",
    "\n",
    "- korijen mora imati najmanje dvoje djece\n",
    "\n",
    "- svi listovi su na istoj razini\n",
    "\n",
    "- B+ stablo\n",
    "    - Česta implementacija kao modifikacija B-stabla\n",
    "    - Podaci se pospremaju na razini lista\n",
    "    - Listovi su povezani (kao povezana lista)\n",
    "\n",
    "- 2-3-4 stablo \n",
    "    - operacija traženja O(log n)\n",
    "    - Za razliku od binarnih stabala – nijedan čvor ne može imati samo jedno dijete\n",
    "\n",
    "- R stablo\n",
    "    - strukture tipa stabla slične B-stablima, ali se koriste za pristup prostornim podacima (indeksiranje višedimenzionalnih informacija)\n",
    "    - Podatkovna struktura dijeli prostor s hijerarhijskim ugnježđivanjem i ako je moguće preklapanjem, kao minimalni ograničeni pravokutnik\n",
    "    - Visina je uvijek log n\n",
    "    - Svojstva R-stabla: \n",
    "        - Svaki čvor sadrži između m i M (uključujuće) zapisa (osim ako je korijen) \n",
    "        - Svaki čvor koji nije list sadrži između m i M veza na djecu čvorove (osim ako je korijen) \n",
    "        - Korijen ima najmanje dvoje djece (ako nije list) \n",
    "        - Svi listovi su na istoj razini.\n"
   ]
  },
  {
   "cell_type": "markdown",
   "metadata": {},
   "source": [
    "## Rabin-Karp\n",
    "\n",
    "- hash funkcija\n",
    "    - uzima u obzir poziciju znaka unutar teksta\n",
    "    - koristi „jeftiniju” rehash funkciju\n",
    "    - ima $d$ velicinu abecede, $h$ množitelj za „najznačajniju” poziciju"
   ]
  }
 ],
 "metadata": {
  "kernelspec": {
   "display_name": "Python_venv",
   "language": "python",
   "name": "python3"
  },
  "language_info": {
   "codemirror_mode": {
    "name": "ipython",
    "version": 3
   },
   "file_extension": ".py",
   "mimetype": "text/x-python",
   "name": "python",
   "nbconvert_exporter": "python",
   "pygments_lexer": "ipython3",
   "version": "3.10.12"
  }
 },
 "nbformat": 4,
 "nbformat_minor": 2
}
