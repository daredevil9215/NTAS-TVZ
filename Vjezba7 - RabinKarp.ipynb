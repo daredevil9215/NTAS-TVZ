{
 "cells": [
  {
   "cell_type": "markdown",
   "metadata": {},
   "source": [
    "# Algoritmi pretraživanja uzoraka u tekstu\n",
    "\n",
    "***\n",
    "\n",
    "# Naivni pristup"
   ]
  },
  {
   "cell_type": "code",
   "execution_count": 92,
   "metadata": {},
   "outputs": [],
   "source": [
    "def naivni(uzorak, tekst):\n",
    "    print()\n",
    "    \n",
    "    provjera_prozora = 0\n",
    "    nadjenih_uzoraka = 0\n",
    "    usporedba_znakova = 0\n",
    "    indeksi_pronadenog = []\n",
    "    \n",
    "    m = len(uzorak) \n",
    "    n = len(tekst) \n",
    "  \n",
    "    for i in range(n - m + 1):  \n",
    "        \n",
    "        nadjeno = True\n",
    "        for j in range(0, m): \n",
    "            usporedba_znakova += 1 \n",
    "            if (tekst[i + j] != uzorak[j]):\n",
    "                nadjeno = False\n",
    "                break        \n",
    "        \n",
    "        if (nadjeno == True):\n",
    "        #if j == m-1:\n",
    "            indeksi_pronadenog.append(i)\n",
    "            nadjenih_uzoraka += 1\n",
    "        \n",
    "        provjera_prozora += 1        \n",
    "        \n",
    "    print(\"naivni:\")\n",
    "    print(\"Uzorak nađen na mjestima\", indeksi_pronadenog)\n",
    "    print(\"\\tbroj nađenih uzoraka:\", nadjenih_uzoraka)  \n",
    "    print(\"\\tbroj provjera prozora:\", provjera_prozora) \n",
    "    print(\"\\tbroj usporedbi znakova:\", usporedba_znakova)  \n",
    "    print(\"-----------------------------------------\")"
   ]
  },
  {
   "cell_type": "markdown",
   "metadata": {},
   "source": [
    "# Hash"
   ]
  },
  {
   "cell_type": "code",
   "execution_count": 93,
   "metadata": {},
   "outputs": [],
   "source": [
    "def hash(uzorak, tekst, djelitelj):\n",
    "    print()\n",
    "    \n",
    "    provjera_prozora = 0\n",
    "    nadjenih_uzoraka = 0\n",
    "    usporedba_znakova = 0\n",
    "    indeksi_pronadenog = []\n",
    "    \n",
    "    m = len(uzorak) \n",
    "    n = len(tekst) \n",
    "  \n",
    "    hash_uzorka = 0\n",
    "    hash_teksta = 0\n",
    "\n",
    "    for i in range(m):  \n",
    "        hash_uzorka = (hash_uzorka + ord(uzorak[i])) % djelitelj \n",
    "        hash_teksta = (hash_teksta + ord(tekst[i])) % djelitelj \n",
    "\n",
    "    for i in range(n - m + 1):  \n",
    "        if hash_uzorka == hash_teksta:\n",
    "        \n",
    "            for j in range(0, m): \n",
    "                usporedba_znakova += 1 \n",
    "                if (tekst[i + j] != uzorak[j]):\n",
    "                    break        \n",
    "\n",
    "            j += 1\n",
    "            if (j == m):\n",
    "                indeksi_pronadenog.append(i)\n",
    "                nadjenih_uzoraka += 1\n",
    "                \n",
    "        if i < n - m: \n",
    "            hash_teksta = 0\n",
    "            for k in range(m):  \n",
    "                hash_teksta = (hash_teksta + ord(tekst[i+k+1])) % djelitelj          \n",
    "        \n",
    "        provjera_prozora += 1        \n",
    "        \n",
    "    print(\"rasprseno:\")\n",
    "    print(\"Uzorak nađen na mjestima\", indeksi_pronadenog)\n",
    "    print(\"\\tbroj nađenih uzoraka:\", nadjenih_uzoraka)\n",
    "    print(\"\\tbroj provjera prozora:\", provjera_prozora)  \n",
    "    print(\"\\tbroj usporedbi znakova:\", usporedba_znakova) \n",
    "    print(\"-----------------------------------------\")"
   ]
  },
  {
   "cell_type": "markdown",
   "metadata": {},
   "source": [
    "# Bolji hash"
   ]
  },
  {
   "cell_type": "code",
   "execution_count": 94,
   "metadata": {},
   "outputs": [],
   "source": [
    "def bolji_hash(uzorak, tekst, djelitelj):\n",
    "    print()\n",
    "    \n",
    "    provjera_prozora = 0\n",
    "    nadjenih_uzoraka = 0\n",
    "    usporedba_znakova = 0\n",
    "    indeksi_pronadenog = []\n",
    "    \n",
    "    m = len(uzorak) \n",
    "    n = len(tekst) \n",
    "  \n",
    "    hash_uzorka = 0\n",
    "    hash_teksta = 0\n",
    "\n",
    "    for i in range(m):  \n",
    "        hash_uzorka = (hash_uzorka + ord(uzorak[i])*(i+1)) % djelitelj \n",
    "        hash_teksta = (hash_teksta + ord(tekst[i])*(i+1)) % djelitelj \n",
    "\n",
    "    for i in range(n - m + 1):  \n",
    "        if hash_uzorka == hash_teksta:\n",
    "        \n",
    "            for j in range(0, m): \n",
    "                usporedba_znakova += 1 \n",
    "                if (tekst[i + j] != uzorak[j]):\n",
    "                    break        \n",
    "\n",
    "            j += 1\n",
    "            if (j == m):\n",
    "                indeksi_pronadenog.append(i)\n",
    "                nadjenih_uzoraka += 1\n",
    "                \n",
    "        if i < n - m: \n",
    "            #hash_teksta = (hash_teksta-ord(tekst[i]) + ord(tekst[i+m]))%djelitelj\n",
    "            hash_teksta = 0\n",
    "            for k in range(m):  \n",
    "                hash_teksta = (hash_teksta + ord(tekst[i+k+1])*(k+1)) % djelitelj          \n",
    "        \n",
    "        provjera_prozora += 1        \n",
    "        \n",
    "    print(\"poboljsano:\")\n",
    "    print(\"Uzorak nađen na mjestima\", indeksi_pronadenog)\n",
    "    print(\"\\tbroj nađenih uzoraka:\", nadjenih_uzoraka) \n",
    "    print(\"\\tbroj provjera prozora:\", provjera_prozora)  \n",
    "    print(\"\\tbroj usporedbi znakova:\", usporedba_znakova) \n",
    "    print(\"-----------------------------------------\")"
   ]
  },
  {
   "cell_type": "markdown",
   "metadata": {},
   "source": [
    "# Rolling hash"
   ]
  },
  {
   "cell_type": "code",
   "execution_count": 95,
   "metadata": {},
   "outputs": [],
   "source": [
    "def rolling_hash(uzorak, tekst, djelitelj):\n",
    "    print()\n",
    "    \n",
    "    provjera_prozora = 0\n",
    "    nadjenih_uzoraka = 0\n",
    "    usporedba_znakova = 0\n",
    "    indeksi_pronadenog = []\n",
    "    \n",
    "    m = len(uzorak) \n",
    "    n = len(tekst) \n",
    "  \n",
    "    hash_uzorka = 0\n",
    "    hash_teksta = 0\n",
    "\n",
    "    for i in range(m):  \n",
    "        hash_uzorka = (hash_uzorka + ord(uzorak[i])) % djelitelj \n",
    "        hash_teksta = (hash_teksta + ord(tekst[i])) % djelitelj \n",
    "\n",
    "    for i in range(n - m + 1):  \n",
    "        if hash_uzorka == hash_teksta:\n",
    "        \n",
    "            for j in range(0, m):\n",
    "                usporedba_znakova += 1  \n",
    "                if (tekst[i + j] != uzorak[j]):\n",
    "                    break        \n",
    "\n",
    "            j += 1\n",
    "            if (j == m):\n",
    "                indeksi_pronadenog.append(i)\n",
    "                nadjenih_uzoraka += 1\n",
    "                \n",
    "        if i < n - m: \n",
    "            hash_teksta = (hash_teksta-ord(tekst[i]) + ord(tekst[i+m]))%djelitelj        \n",
    "        \n",
    "        provjera_prozora += 1        \n",
    "        \n",
    "    print(\"kotrljajuci:\")\n",
    "    print(\"Uzorak nađen na mjestima\", indeksi_pronadenog)\n",
    "    print(\"\\tbroj nađenih uzoraka:\", nadjenih_uzoraka)\n",
    "    print(\"\\tbroj provjera prozora:\", provjera_prozora)  \n",
    "    print(\"\\tbroj usporedbi znakova:\", usporedba_znakova) \n",
    "    print(\"-----------------------------------------\")"
   ]
  },
  {
   "cell_type": "markdown",
   "metadata": {},
   "source": [
    "# Rabin-Karp"
   ]
  },
  {
   "cell_type": "code",
   "execution_count": 96,
   "metadata": {},
   "outputs": [],
   "source": [
    "d = 10\n",
    "\n",
    "def rabinkarp(uzorak, tekst, djelitelj):\n",
    "    print()\n",
    "    \n",
    "    provjera_prozora = 0\n",
    "    nadjenih_uzoraka = 0\n",
    "    usporedba_znakova = 0\n",
    "    indeksi_pronadenog = []\n",
    "    \n",
    "    m = len(uzorak) \n",
    "    n = len(tekst) \n",
    "  \n",
    "    hash_uzorka = 0\n",
    "    hash_teksta = 0\n",
    "    \n",
    "    h = 1\n",
    "    for i in range(m-1): \n",
    "        h = (h * d) % djelitelj    \n",
    "\n",
    "    for i in range(m):  \n",
    "        hash_uzorka = (hash_uzorka * d + ord(uzorak[i])) % djelitelj \n",
    "        hash_teksta = (hash_teksta * d + ord(tekst[i])) % djelitelj \n",
    "\n",
    "    for i in range(n - m + 1):  \n",
    "        if hash_uzorka == hash_teksta:\n",
    "        \n",
    "            for j in range(0, m):\n",
    "                usporedba_znakova += 1            \n",
    "                if (tekst[i + j] != uzorak[j]):\n",
    "                    break        \n",
    "\n",
    "            j += 1\n",
    "            if (j == m):\n",
    "                indeksi_pronadenog.append(i)\n",
    "                nadjenih_uzoraka += 1\n",
    "                \n",
    "        if i < n - m: \n",
    "            hash_teksta = (d * (hash_teksta - ord(tekst[i]) * h) + ord(tekst[i+m])) % djelitelj\n",
    "        \n",
    "        provjera_prozora += 1        \n",
    "        \n",
    "    print(\"rabinkarp:\")\n",
    "    print(\"Uzorak nađen na mjestima\", indeksi_pronadenog)\n",
    "    print(\"\\tbroj nađenih uzoraka:\", nadjenih_uzoraka)\n",
    "    print(\"\\tbroj provjera prozora:\", provjera_prozora)   \n",
    "    print(\"\\tbroj usporedbi znakova:\", usporedba_znakova) \n",
    "    print(\"-----------------------------------------\")"
   ]
  },
  {
   "cell_type": "markdown",
   "metadata": {},
   "source": [
    "1. Primjenom algoritama pretraživanja uzoraka u tekstu sa i bez uporabe hash funkcije prema implementacijama priloženim u Jupyter bilježnici vježbe za primjer uzorka \"NTAS\" u tekstu \"STSASTTTTSSANATATTNTTTTTSSASSTSNTSSSTANAATTSNSTSSATNANNTTATTNNTTSTSTSTAANTAATSTNATANTSTNTSSANTNATSASTAN\n",
    "NANTNTTSAATNTANASNTASATSNTSNTASSAAANANAANNTTSSATTATTSTAASNSASSTSTTTTSATNAANSATSNATASANAATTSTAASTNSTASN\n",
    "NSAASTSSSSNNANTASNTSATTNSSTTSASTATNSAAASNNTASTSSNANASTNTT\""
   ]
  },
  {
   "cell_type": "code",
   "execution_count": 97,
   "metadata": {},
   "outputs": [
    {
     "name": "stdout",
     "output_type": "stream",
     "text": [
      "\n",
      "naivni:\n",
      "Uzorak nađen na mjestima [120, 130, 218, 246]\n",
      "\tbroj nađenih uzoraka: 4\n",
      "\tbroj provjera prozora: 259\n",
      "\tbroj usporedbi znakova: 330\n",
      "-----------------------------------------\n"
     ]
    }
   ],
   "source": [
    "tekst = \"STSASTTTTSSANATATTNTTTTTSSASSTSNTSSSTANAATTSNSTSSATNANNTTATTNNTTSTSTSTAANTAATSTNATANTSTNTSSANTNATSASTANNANTNTTSAATNTANASNTASATSNTSNTASSAAANANAANNTTSSATTATTSTAASNSASSTSTTTTSATNAANSATSNATASANAATTSTAASTNSTASNNSAASTSSSSNNANTASNTSATTNSSTTSASTATNSAAASNNTASTSSNANASTNTT\"\n",
    "uzorak = \"NTAS\"\n",
    "\n",
    "naivni(uzorak, tekst)"
   ]
  },
  {
   "cell_type": "code",
   "execution_count": 98,
   "metadata": {},
   "outputs": [
    {
     "name": "stdout",
     "output_type": "stream",
     "text": [
      "\n",
      "rasprseno:\n",
      "Uzorak nađen na mjestima [120, 130, 218, 246]\n",
      "\tbroj nađenih uzoraka: 4\n",
      "\tbroj provjera prozora: 259\n",
      "\tbroj usporedbi znakova: 48\n",
      "-----------------------------------------\n"
     ]
    }
   ],
   "source": [
    "hash(uzorak, tekst, 101)"
   ]
  },
  {
   "cell_type": "code",
   "execution_count": 99,
   "metadata": {},
   "outputs": [
    {
     "name": "stdout",
     "output_type": "stream",
     "text": [
      "\n",
      "poboljsano:\n",
      "Uzorak nađen na mjestima [120, 130, 218, 246]\n",
      "\tbroj nađenih uzoraka: 4\n",
      "\tbroj provjera prozora: 259\n",
      "\tbroj usporedbi znakova: 16\n",
      "-----------------------------------------\n"
     ]
    }
   ],
   "source": [
    "bolji_hash(uzorak, tekst, 101)"
   ]
  },
  {
   "cell_type": "code",
   "execution_count": 100,
   "metadata": {},
   "outputs": [
    {
     "name": "stdout",
     "output_type": "stream",
     "text": [
      "\n",
      "kotrljajuci:\n",
      "Uzorak nađen na mjestima [120, 130, 218, 246]\n",
      "\tbroj nađenih uzoraka: 4\n",
      "\tbroj provjera prozora: 259\n",
      "\tbroj usporedbi znakova: 48\n",
      "-----------------------------------------\n"
     ]
    }
   ],
   "source": [
    "rolling_hash(uzorak, tekst, 101)"
   ]
  },
  {
   "cell_type": "code",
   "execution_count": 101,
   "metadata": {},
   "outputs": [
    {
     "name": "stdout",
     "output_type": "stream",
     "text": [
      "\n",
      "rabinkarp:\n",
      "Uzorak nađen na mjestima [120, 130, 218, 246]\n",
      "\tbroj nađenih uzoraka: 4\n",
      "\tbroj provjera prozora: 259\n",
      "\tbroj usporedbi znakova: 18\n",
      "-----------------------------------------\n"
     ]
    }
   ],
   "source": [
    "rabinkarp(uzorak, tekst, 101)"
   ]
  },
  {
   "cell_type": "markdown",
   "metadata": {},
   "source": [
    "2. Primjenom algoritama pretraživanja uzoraka u tekstu sa i bez uporabe hash funkcije prema implementacijama priloženim u Jupyter bilježnici vježbe za primjer uzorka \"NTAS\" u tekstu \"TANTTSTANTAAATSSAATTTATANTNSTAANSSTAATNANSNTASAASSSSTSSTATTAAATNNNNTSANSTASSTTATANNTSTANNAATNSANNTSN\n",
    "NATTNNTNATTTNAAAASSNSSAASSTNASSTNNSAATNSTATSANTTANSSSANTTNSTTTSTNAAATAASNTSATNTNANTTSNSSNAASSSATNNNT\n",
    "ASNNATSTNTTNTSSASTTANSTSTNTNNNTNNNSNSASASANNAATNTASATTTTTTTNASSAN\""
   ]
  },
  {
   "cell_type": "code",
   "execution_count": 102,
   "metadata": {},
   "outputs": [
    {
     "name": "stdout",
     "output_type": "stream",
     "text": [
      "\n",
      "naivni:\n",
      "Uzorak nađen na mjestima [42, 198, 247]\n",
      "\tbroj nađenih uzoraka: 3\n",
      "\tbroj provjera prozora: 262\n",
      "\tbroj usporedbi znakova: 347\n",
      "-----------------------------------------\n"
     ]
    }
   ],
   "source": [
    "tekst = \"TANTTSTANTAAATSSAATTTATANTNSTAANSSTAATNANSNTASAASSSSTSSTATTAAATNNNNTSANSTASSTTATANNTSTANNAATNSANNTSNNATTNNTNATTTNAAAASSNSSAASSTNASSTNNSAATNSTATSANTTANSSSANTTNSTTTSTNAAATAASNTSATNTNANTTSNSSNAASSSATNNNTASNNATSTNTTNTSSASTTANSTSTNTNNNTNNNSNSASASANNAATNTASATTTTTTTNASSAN\"\n",
    "uzorak = \"NTAS\"\n",
    "\n",
    "naivni(uzorak, tekst)"
   ]
  },
  {
   "cell_type": "code",
   "execution_count": 103,
   "metadata": {},
   "outputs": [
    {
     "name": "stdout",
     "output_type": "stream",
     "text": [
      "\n",
      "rasprseno:\n",
      "Uzorak nađen na mjestima [42, 198, 247]\n",
      "\tbroj nađenih uzoraka: 3\n",
      "\tbroj provjera prozora: 262\n",
      "\tbroj usporedbi znakova: 48\n",
      "-----------------------------------------\n"
     ]
    }
   ],
   "source": [
    "hash(uzorak, tekst, 101)"
   ]
  },
  {
   "cell_type": "code",
   "execution_count": 104,
   "metadata": {},
   "outputs": [
    {
     "name": "stdout",
     "output_type": "stream",
     "text": [
      "\n",
      "poboljsano:\n",
      "Uzorak nađen na mjestima [42, 198, 247]\n",
      "\tbroj nađenih uzoraka: 3\n",
      "\tbroj provjera prozora: 262\n",
      "\tbroj usporedbi znakova: 12\n",
      "-----------------------------------------\n"
     ]
    }
   ],
   "source": [
    "bolji_hash(uzorak, tekst, 101)"
   ]
  },
  {
   "cell_type": "code",
   "execution_count": 105,
   "metadata": {},
   "outputs": [
    {
     "name": "stdout",
     "output_type": "stream",
     "text": [
      "\n",
      "kotrljajuci:\n",
      "Uzorak nađen na mjestima [42, 198, 247]\n",
      "\tbroj nađenih uzoraka: 3\n",
      "\tbroj provjera prozora: 262\n",
      "\tbroj usporedbi znakova: 48\n",
      "-----------------------------------------\n"
     ]
    }
   ],
   "source": [
    "rolling_hash(uzorak, tekst, 101)"
   ]
  },
  {
   "cell_type": "code",
   "execution_count": 106,
   "metadata": {},
   "outputs": [
    {
     "name": "stdout",
     "output_type": "stream",
     "text": [
      "\n",
      "rabinkarp:\n",
      "Uzorak nađen na mjestima [42, 198, 247]\n",
      "\tbroj nađenih uzoraka: 3\n",
      "\tbroj provjera prozora: 262\n",
      "\tbroj usporedbi znakova: 12\n",
      "-----------------------------------------\n"
     ]
    }
   ],
   "source": [
    "rabinkarp(uzorak, tekst, 101)"
   ]
  }
 ],
 "metadata": {
  "kernelspec": {
   "display_name": "Python_venv",
   "language": "python",
   "name": "python3"
  },
  "language_info": {
   "codemirror_mode": {
    "name": "ipython",
    "version": 3
   },
   "file_extension": ".py",
   "mimetype": "text/x-python",
   "name": "python",
   "nbconvert_exporter": "python",
   "pygments_lexer": "ipython3",
   "version": "3.10.12"
  }
 },
 "nbformat": 4,
 "nbformat_minor": 2
}
