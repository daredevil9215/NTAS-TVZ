{
 "cells": [
  {
   "cell_type": "markdown",
   "metadata": {},
   "source": [
    "# 1. Vježba 2 -  Balansiranje AVL stabala "
   ]
  },
  {
   "cell_type": "markdown",
   "metadata": {},
   "source": [
    "##  AVL BST  STABLO - PROGRAMSKI KÔD\n",
    "\n",
    "Implementacija AVL binarnog stabla pretraživanja s funkcijama za umetanje, uklanjanje te za jednostavnu lijevu i desnu rotaciju. Dvostruke rotacije ostvaruju primjenam lijeve i desne rotacije. \n",
    "\n",
    "**Samobalansiranje u sljedećim primjerima nije implementirano već se rotacije provode \"ručno\" tj. pronalazi se čvor krenuvši od korijena stabla koji treba zarotirati.**\n"
   ]
  },
  {
   "cell_type": "markdown",
   "metadata": {},
   "source": [
    "### NAPOMENA \n",
    "\n",
    "**Visina stabla se broji od 0 počevši od listova prema korijenu.**"
   ]
  },
  {
   "cell_type": "markdown",
   "metadata": {},
   "source": [
    "### Programski kôd za implementaciju binarnog stabla pretraživanja"
   ]
  },
  {
   "cell_type": "code",
   "execution_count": 1,
   "metadata": {},
   "outputs": [],
   "source": [
    "class BSTree:\n",
    "    # Razred čvor - definiran je s vrijednošću čvora (val) i referencama na lijevo i desno dijete (left i right)\n",
    "    class Node:\n",
    "        def __init__(self, val, left=None, right=None):\n",
    "            self.val = val\n",
    "            self.left = left\n",
    "            self.right = right\n",
    "            \n",
    "        def rotate_right(self):\n",
    "            n = self.left\n",
    "            self.val, n.val = n.val, self.val\n",
    "            self.left, n.left, self.right, n.right = n.left, n.right, n, self.right\n",
    "        \n",
    "        def rotate_left(self):\n",
    "            n = self.right\n",
    "            self.val, n.val = n.val, self.val\n",
    "            self.right, n.right, self.left, n.left = n.right, n.left, n, self.left\n",
    "          \n",
    "    '''\n",
    "    Definicija binarnog stabla pretraživanja \n",
    "    Definira se referenca na korijen stabla (root) i veličinu stabla (size)   \n",
    "    '''        \n",
    "    def __init__(self):\n",
    "        self.size = 0\n",
    "        self.root = None\n",
    "    \n",
    "    # metoda koja umeće novi čvor u stablo na mjesto prema pravilima BSP (ali ne balansira stablo)\n",
    "    def add(self, val):\n",
    "        assert(val not in self)\n",
    "        def add_rec(node):\n",
    "            if not node:\n",
    "                return BSTree.Node(val)\n",
    "            elif val < node.val:\n",
    "                node.left = add_rec(node.left)\n",
    "                return node\n",
    "            else:\n",
    "                node.right = add_rec(node.right)\n",
    "                return node\n",
    "        self.root = add_rec(self.root)\n",
    "        self.size += 1\n",
    "    \n",
    "    # metoda za provjeru sadrži li stablo neki podatak  \n",
    "    def __contains__(self, val):\n",
    "        def contains_rec(node):\n",
    "            if not node:\n",
    "                return False\n",
    "            elif val < node.val:\n",
    "                return contains_rec(node.left)\n",
    "            elif val > node.val:\n",
    "                return contains_rec(node.right)\n",
    "            else:\n",
    "                return True\n",
    "        return contains_rec(self.root)\n",
    "    \n",
    "    def __len__(self):\n",
    "        return self.size\n",
    "    \n",
    "    # metoda koja uklanja čvor s traženim podatkom\n",
    "    def delitem(self, val):\n",
    "        assert(val in self)\n",
    "        def delitem_rec(node):\n",
    "            if val < node.val:\n",
    "                node.left = delitem_rec(node.left)\n",
    "                return node\n",
    "            elif val > node.val:\n",
    "                node.right = delitem_rec(node.right)\n",
    "                return node\n",
    "            else:\n",
    "                if not node.left and not node.right:\n",
    "                    return None\n",
    "                elif node.left and not node.right:\n",
    "                    return node.left\n",
    "                elif node.right and not node.left:\n",
    "                    return node.right\n",
    "                else:\n",
    "                    # ukloni najveći element iz lijevog podstabla kao zamjenu za stari korijen stabla\n",
    "                    t = node.left\n",
    "                    if not t.right:\n",
    "                        node.val = t.val\n",
    "                        node.left = t.left\n",
    "                    else:\n",
    "                        n = t\n",
    "                        while n.right.right:\n",
    "                            n = n.right\n",
    "                        t = n.right\n",
    "                        n.right = t.left\n",
    "                        node.val = t.val\n",
    "                    return node\n",
    "                        \n",
    "        self.root = delitem_rec(self.root)\n",
    "        self.size -= 1\n",
    "    \n",
    "        \n",
    "    def pprint(self, width=64):\n",
    "        \"\"\"Lijepi ispis stabla.\"\"\"\n",
    "        height = self.height()\n",
    "        nodes  = [(self.root, 0)]\n",
    "        prev_level = 0\n",
    "        repr_str = ''\n",
    "        while nodes:\n",
    "            n,level = nodes.pop(0)\n",
    "            if prev_level != level:\n",
    "                prev_level = level\n",
    "                repr_str += '\\n'\n",
    "            if not n:\n",
    "                if level < height:\n",
    "                    nodes.extend([(None, level+1), (None, level+1)])\n",
    "                repr_str += '{val:^{width}}'.format(val='-', width=width//2**level)\n",
    "            elif n:\n",
    "                if n.left or level < height:\n",
    "                    nodes.append((n.left, level+1))\n",
    "                if n.right or level < height:\n",
    "                    nodes.append((n.right, level+1))\n",
    "                repr_str += '{val:^{width}}'.format(val=n.val, width=width//2**level)\n",
    "        print(repr_str)\n",
    "    \n",
    "    def height(self):\n",
    "        \"\"\"Vraća visinu stabla.\"\"\"\n",
    "        def height_rec(t):\n",
    "            if not t:\n",
    "                return -1\n",
    "            else:\n",
    "                return max(1+height_rec(t.left), 1+height_rec(t.right))\n",
    "        return height_rec(self.root)"
   ]
  },
  {
   "cell_type": "markdown",
   "metadata": {},
   "source": [
    "#### Primjeri stvaranja binarnog stabla pretraživanja s rotacijama za balansiranje koje se odrađuju ručno"
   ]
  },
  {
   "cell_type": "markdown",
   "metadata": {},
   "source": [
    "Umetanje vrijednosti iz liste u stablo metodom *add(x)* i ispis stabla po razinama.\n",
    "\n",
    "Uočava se da su vrijednosti ispravno dodane (po pravilo binarnog stabla pretraživanja) ali ovo stablo je tzv. degenerirano binarno stablo čija složenost pretraživanja je reda *O*(*n*) gdje je *n* broj čvorova u stablu, što nam je u svakom slučaju nepovoljno. Razlog tome je što ovdje nije napravljeno balansiranje, koje se mora odmah provesti kod umetanja čvora."
   ]
  },
  {
   "cell_type": "code",
   "execution_count": 2,
   "metadata": {
    "run_control": {
     "marked": true
    }
   },
   "outputs": [
    {
     "name": "stdout",
     "output_type": "stream",
     "text": [
      "                               1                                \n",
      "               -                               5                \n",
      "       -               -               4               10       \n",
      "Visina stabla je:  2\n"
     ]
    }
   ],
   "source": [
    "# Primjer stvaranja nebalansiranog BST stabla iz liste, iscrtavanje stabla i ispis visine\n",
    "t = BSTree()\n",
    "# dodavanje u stablo iz liste\n",
    "for x in [1, 5, 10, 4]:\n",
    "    t.add(x)\n",
    "\n",
    "# crtanje stabla\n",
    "t.pprint()\n",
    "# ispis visine stabla\n",
    "print(\"Visina stabla je: \", t.height())"
   ]
  },
  {
   "cell_type": "markdown",
   "metadata": {},
   "source": [
    "# Zadatak 1\n",
    "\n"
   ]
  },
  {
   "cell_type": "markdown",
   "metadata": {},
   "source": [
    "Cilj zadatka je za zadane podatke u listama izgraditi binarno stablo pretraživanja i uočiti debalanse te ih ručnim rotiranjem ukloniti. \n",
    "\n",
    "Kad je potrebno učiniti balansiranje ulijevo tada se za stvoreni objekt stabla *t = BSTree()* pozivom metode *rotate_left()* izvodi rotacija ulijevo. Primjerice, na korijenu stabla: *t.root.rotate_left()*\n",
    "\n",
    "Da bi se zadatak riješio potrebno je:\n",
    " 1. Napuniti stablo s podacima iz liste i nacrtati ga.\n",
    " 2. Uočiti na kojem čvoru je debalans.\n",
    " 3. Izvršiti one rotacije koje su potrebne i nacrtati stablo. \n",
    " 4. U ćeliji ispod toga napisati kratki komentar što je trebalo uraditi i zašto."
   ]
  },
  {
   "cell_type": "markdown",
   "metadata": {},
   "source": [
    "Liste koje je potrebno realizirati i balansirati prema zahtjevima zadatka:\n",
    "\n",
    "1. [30, 40, 10, 45, 50]\n",
    "2. [17, 14, 12, 16] \n",
    "3. [80, 90, 50, 100, 95, 60]\n",
    "4. [60, 32, 90, 20, 95, 28]"
   ]
  },
  {
   "cell_type": "markdown",
   "metadata": {},
   "source": [
    "## Rješenja Zadatka 1\n",
    "\n",
    "***"
   ]
  },
  {
   "cell_type": "code",
   "execution_count": 25,
   "metadata": {},
   "outputs": [
    {
     "name": "stdout",
     "output_type": "stream",
     "text": [
      "                               30                               \n",
      "               10                              40               \n",
      "       -               -               -               45       \n",
      "   -       -       -       -       -       -       -       50   \n"
     ]
    }
   ],
   "source": [
    "# Stablo 1\n",
    "list1 = [30, 40, 10, 45, 50]\n",
    "tree1 = BSTree()\n",
    "\n",
    "# Punjenje stabla\n",
    "for x in list1:\n",
    "    tree1.add(x)\n",
    "\n",
    "# Crtanje stabla\n",
    "tree1.pprint()"
   ]
  },
  {
   "cell_type": "markdown",
   "metadata": {},
   "source": [
    "**Komentar za balansiranje stabla za listu 1**\n",
    "\n",
    "Desno podstablo (kojem je korijen 40) je za 2 razine dublje od lijevog (s korijenom 10). Rotiranjem korijena (30) ulijevo dobiva se balansirano stablo."
   ]
  },
  {
   "cell_type": "code",
   "execution_count": 26,
   "metadata": {},
   "outputs": [
    {
     "name": "stdout",
     "output_type": "stream",
     "text": [
      "                               30                               \n",
      "               10                              45               \n",
      "       -               -               40              50       \n"
     ]
    }
   ],
   "source": [
    "tree1.root.right.rotate_left()\n",
    "tree1.pprint()"
   ]
  },
  {
   "cell_type": "markdown",
   "metadata": {},
   "source": [
    "***"
   ]
  },
  {
   "cell_type": "code",
   "execution_count": 27,
   "metadata": {},
   "outputs": [
    {
     "name": "stdout",
     "output_type": "stream",
     "text": [
      "                               17                               \n",
      "               14                              -                \n",
      "       12              16              -               -        \n"
     ]
    }
   ],
   "source": [
    "# Stablo 2\n",
    "list2 = [17, 14, 12, 16]\n",
    "tree2 = BSTree()\n",
    "\n",
    "# Punjenje stabla\n",
    "for x in list2:\n",
    "    tree2.add(x)\n",
    "\n",
    "# Crtanje stabla\n",
    "tree2.pprint()"
   ]
  },
  {
   "cell_type": "markdown",
   "metadata": {},
   "source": [
    "**Komentar za balansiranje stabla za listu 2**\n",
    "\n",
    "Stablo je lijevo otežano. Treba obaviti desnu rotaciju na korijenu."
   ]
  },
  {
   "cell_type": "code",
   "execution_count": 28,
   "metadata": {},
   "outputs": [
    {
     "name": "stdout",
     "output_type": "stream",
     "text": [
      "                               14                               \n",
      "               12                              17               \n",
      "       -               -               16              -        \n"
     ]
    }
   ],
   "source": [
    "tree2.root.rotate_right()\n",
    "tree2.pprint()"
   ]
  },
  {
   "cell_type": "markdown",
   "metadata": {},
   "source": [
    "***"
   ]
  },
  {
   "cell_type": "code",
   "execution_count": 29,
   "metadata": {},
   "outputs": [
    {
     "name": "stdout",
     "output_type": "stream",
     "text": [
      "                               80                               \n",
      "               50                              90               \n",
      "       -               60              -              100       \n",
      "   -       -       -       -       -       -       95      -    \n"
     ]
    }
   ],
   "source": [
    "# Stablo 3\n",
    "list3 = [80, 90, 50, 100, 95, 60]\n",
    "tree3 = BSTree()\n",
    "\n",
    "# Punjenje stabla\n",
    "for x in list3:\n",
    "    tree3.add(x)\n",
    "\n",
    "# Crtanje stabla\n",
    "tree3.pprint()"
   ]
  },
  {
   "cell_type": "markdown",
   "metadata": {},
   "source": [
    "**Komentar za balansiranje stabla za listu 3**\n",
    "\n",
    "Potrebna je jedna desno-lijeva rotacija u desnom podstablu (s korijenom 90)."
   ]
  },
  {
   "cell_type": "code",
   "execution_count": 30,
   "metadata": {},
   "outputs": [
    {
     "name": "stdout",
     "output_type": "stream",
     "text": [
      "                               80                               \n",
      "               50                              90               \n",
      "       -               60              -               95       \n",
      "   -       -       -       -       -       -       -      100   \n"
     ]
    }
   ],
   "source": [
    "tree3.root.right.right.rotate_right()\n",
    "tree3.pprint()"
   ]
  },
  {
   "cell_type": "code",
   "execution_count": 31,
   "metadata": {},
   "outputs": [
    {
     "name": "stdout",
     "output_type": "stream",
     "text": [
      "                               80                               \n",
      "               50                              95               \n",
      "       -               60              90             100       \n"
     ]
    }
   ],
   "source": [
    "tree3.root.right.rotate_left()\n",
    "tree3.pprint()"
   ]
  },
  {
   "cell_type": "markdown",
   "metadata": {},
   "source": [
    "***"
   ]
  },
  {
   "cell_type": "code",
   "execution_count": 32,
   "metadata": {},
   "outputs": [
    {
     "name": "stdout",
     "output_type": "stream",
     "text": [
      "                               60                               \n",
      "               32                              90               \n",
      "       20              -               -               95       \n",
      "   -       28      -       -       -       -       -       -    \n"
     ]
    }
   ],
   "source": [
    "# Stablo 4\n",
    "list4 = [60, 32, 90, 20, 95, 28]\n",
    "tree4 = BSTree()\n",
    "\n",
    "# Punjenje stabla\n",
    "for x in list4:\n",
    "    tree4.add(x)\n",
    "\n",
    "# Crtanje stabla\n",
    "tree4.pprint()"
   ]
  },
  {
   "cell_type": "markdown",
   "metadata": {},
   "source": [
    "**Komentar za balansiranje stabla za listu 4**\n",
    "\n",
    "Potrebna je jedna lievo-desna rotacija u desnom podstablu (s korijenom 32)."
   ]
  },
  {
   "cell_type": "code",
   "execution_count": 33,
   "metadata": {},
   "outputs": [
    {
     "name": "stdout",
     "output_type": "stream",
     "text": [
      "                               60                               \n",
      "               32                              90               \n",
      "       28              -               -               95       \n",
      "   20      -       -       -       -       -       -       -    \n"
     ]
    }
   ],
   "source": [
    "tree4.root.left.left.rotate_left()\n",
    "tree4.pprint()"
   ]
  },
  {
   "cell_type": "code",
   "execution_count": 34,
   "metadata": {},
   "outputs": [
    {
     "name": "stdout",
     "output_type": "stream",
     "text": [
      "                               60                               \n",
      "               28                              90               \n",
      "       20              32              -               95       \n"
     ]
    }
   ],
   "source": [
    "tree4.root.left.rotate_right()\n",
    "tree4.pprint()"
   ]
  },
  {
   "cell_type": "markdown",
   "metadata": {},
   "source": [
    "***"
   ]
  },
  {
   "cell_type": "markdown",
   "metadata": {},
   "source": [
    "### Uklanjanje čvora i balansiranje\n",
    "\n",
    "Kada se ukloni neki čvor može se poremetiti balans. \n",
    "\n",
    "#### Pravila uklanjanja\n",
    "\n",
    "Kada se uklanja čvor treba voditi računa i o tome da se zadrže svojstva binarnog stabla pretraživanja.\n",
    "1. Ako je čvor kojeg se uklanja list treba samo provjeriti je li došlo do debalansa te ga, ako treba, ispraviti rotacijama.\n",
    "2. Ako čvor kojeg se uklanja ima samo lijevo dijete ili samo desno dijete onda nakon njegova uklanjanja na to mjesto dolazi njegovo desno dijete odnosno lijevo dijete \n",
    "3. Ako čvor kojeg se uklanja ima oba djeteta tada se traži čvor koji je najveći u njegovom lijevom podstablu i koji se pri tome uklanja sa svog starog mjesta prema istom postupku: ako ima lijevo dijete onda to dolazi na njegovo mjesto."
   ]
  },
  {
   "cell_type": "markdown",
   "metadata": {},
   "source": [
    "# Zadatak 2\n",
    "\n",
    "Kod realizacije svakog uklanjanja komentirati o kojem slučaju se radi (list, čvor s jednim djetetom, čvor s dva djeteta i sl.)\n",
    "\n",
    "1. Stvoriti stablo za zadanu listu  L = [25, 19, 29, 12, 17, 35, 27]\n",
    "2. Ukloniti čvor 17, komentirati treba li balansiranje te ga realizirati\n",
    "3. Ukloniti čvor 19, komentirati treba li balansiranje te ga realizirati\n",
    "4. Ukloniti čvor 12, komentirati treba li balansiranje te ga realizirati\n",
    "5. Ukloniti čvor 29, komentirati treba li balansiranje te ga realizirati"
   ]
  },
  {
   "cell_type": "markdown",
   "metadata": {},
   "source": [
    "## Rješenja Zadatka 2\n",
    "\n"
   ]
  },
  {
   "cell_type": "code",
   "execution_count": 35,
   "metadata": {},
   "outputs": [
    {
     "name": "stdout",
     "output_type": "stream",
     "text": [
      "                               25                               \n",
      "               19                              29               \n",
      "       12              -               27              35       \n",
      "   -       17      -       -       -       -       -       -    \n"
     ]
    }
   ],
   "source": [
    "lista = [25, 19, 29, 12, 17, 35, 27]\n",
    "tree = BSTree()\n",
    "\n",
    "# Punjenje stabla\n",
    "for x in lista:\n",
    "    tree.add(x)\n",
    "\n",
    "# Crtanje stabla\n",
    "tree.pprint()"
   ]
  },
  {
   "cell_type": "code",
   "execution_count": 36,
   "metadata": {},
   "outputs": [
    {
     "name": "stdout",
     "output_type": "stream",
     "text": [
      "                               25                               \n",
      "               19                              29               \n",
      "       12              -               27              35       \n"
     ]
    }
   ],
   "source": [
    "# Uklanja se list 17, ne treba balansirati\n",
    "tree.delitem(17)\n",
    "tree.pprint()"
   ]
  },
  {
   "cell_type": "code",
   "execution_count": 37,
   "metadata": {},
   "outputs": [
    {
     "name": "stdout",
     "output_type": "stream",
     "text": [
      "                               25                               \n",
      "               12                              29               \n",
      "       -               -               27              35       \n"
     ]
    }
   ],
   "source": [
    "# Uklanja se cvor s jednim djetetom 19, ne treba balansirati\n",
    "tree.delitem(19)\n",
    "tree.pprint()"
   ]
  },
  {
   "cell_type": "code",
   "execution_count": 38,
   "metadata": {},
   "outputs": [
    {
     "name": "stdout",
     "output_type": "stream",
     "text": [
      "                               25                               \n",
      "               -                               29               \n",
      "       -               -               27              35       \n"
     ]
    }
   ],
   "source": [
    "# Uklanja se list 12, treba balansirati desno podstablo lijevom rotacijom korijena\n",
    "tree.delitem(12)\n",
    "tree.pprint()"
   ]
  },
  {
   "cell_type": "code",
   "execution_count": 39,
   "metadata": {},
   "outputs": [
    {
     "name": "stdout",
     "output_type": "stream",
     "text": [
      "                               29                               \n",
      "               25                              35               \n",
      "       -               27              -               -        \n"
     ]
    }
   ],
   "source": [
    "tree.root.rotate_left()\n",
    "tree.pprint()"
   ]
  },
  {
   "cell_type": "code",
   "execution_count": 40,
   "metadata": {},
   "outputs": [
    {
     "name": "stdout",
     "output_type": "stream",
     "text": [
      "                               27                               \n",
      "               25                              35               \n"
     ]
    }
   ],
   "source": [
    "# Uklanja se korijen 29, ne treba balansirati\n",
    "tree.delitem(29)\n",
    "tree.pprint()"
   ]
  },
  {
   "cell_type": "markdown",
   "metadata": {},
   "source": [
    "# Zadatak 3\n",
    "\n",
    "U ovom zadatku se također rade odgovarajuće rotacije radi balansiranja kojih može biti više (i u lijevom i u desnom podstablu u odnosu na početni korijen)."
   ]
  },
  {
   "cell_type": "markdown",
   "metadata": {},
   "source": [
    "Zadano je stablo s listom L = [10, 12, 3, 8, 22, 7, 23, 27, 26]  koje treba u potpunosti izbalanisrati.\n",
    "1. Napuniti stablo \n",
    "2. Nacrtati stablo\n",
    "3. Uočiti sve debalanse koji postoje u tom stablu \n",
    "4. U potpunosti \"ručno\" izbalansirati to stablo\n",
    "5. Operacije (rotacije)  koje se provode komentirati korak po korak i svaki put prikazati rezultat.\n"
   ]
  },
  {
   "cell_type": "markdown",
   "metadata": {},
   "source": [
    "## Rješenja Zadatka 3\n",
    "\n"
   ]
  },
  {
   "cell_type": "code",
   "execution_count": 41,
   "metadata": {},
   "outputs": [
    {
     "name": "stdout",
     "output_type": "stream",
     "text": [
      "                               10                               \n",
      "               3                               12               \n",
      "       -               8               -               22       \n",
      "   -       -       7       -       -       -       -       23   \n",
      " -   -   -   -   -   -   -   -   -   -   -   -   -   -   -   27 \n",
      "- - - - - - - - - - - - - - - - - - - - - - - - - - - - - - 26- \n"
     ]
    }
   ],
   "source": [
    "lista = [10, 12, 3, 8, 22, 7, 23, 27, 26]\n",
    "tree = BSTree()\n",
    "\n",
    "# Punjenje stabla\n",
    "for x in lista:\n",
    "    tree.add(x)\n",
    "\n",
    "# Crtanje stabla\n",
    "tree.pprint()"
   ]
  },
  {
   "cell_type": "code",
   "execution_count": 42,
   "metadata": {},
   "outputs": [
    {
     "name": "stdout",
     "output_type": "stream",
     "text": [
      "                               10                               \n",
      "               3                               22               \n",
      "       -               8               12              23       \n",
      "   -       -       7       -       -       -       -       27   \n",
      " -   -   -   -   -   -   -   -   -   -   -   -   -   -   26  -  \n"
     ]
    }
   ],
   "source": [
    "# Desno podstablo je desno otezano, rotiramo lijevo korijen desnog podstabla (12)\n",
    "tree.root.right.rotate_left()\n",
    "tree.pprint()"
   ]
  },
  {
   "cell_type": "code",
   "execution_count": 43,
   "metadata": {},
   "outputs": [
    {
     "name": "stdout",
     "output_type": "stream",
     "text": [
      "                               10                               \n",
      "               3                               23               \n",
      "       -               8               22              27       \n",
      "   -       -       7       -       12      -       26      -    \n"
     ]
    }
   ],
   "source": [
    "# Desno podstablo je desno otezano, rotiramo lijevo korijen desnog podstabla (22)\n",
    "tree.root.right.rotate_left()\n",
    "tree.pprint()"
   ]
  },
  {
   "cell_type": "code",
   "execution_count": 44,
   "metadata": {},
   "outputs": [
    {
     "name": "stdout",
     "output_type": "stream",
     "text": [
      "                               10                               \n",
      "               3                               23               \n",
      "       -               7               22              27       \n",
      "   -       -       -       8       12      -       26      -    \n"
     ]
    }
   ],
   "source": [
    "# Lijevo podstablo je desno-lijevo otezano, rotiramo korijen 8 desno\n",
    "tree.root.left.right.rotate_right()\n",
    "tree.pprint()"
   ]
  },
  {
   "cell_type": "code",
   "execution_count": 45,
   "metadata": {},
   "outputs": [
    {
     "name": "stdout",
     "output_type": "stream",
     "text": [
      "                               10                               \n",
      "               7                               23               \n",
      "       3               8               22              27       \n",
      "   -       -       -       -       12      -       26      -    \n"
     ]
    }
   ],
   "source": [
    "# Lijevo podstablo je desno otezano, rotiramo korijen 3 lijevo\n",
    "tree.root.left.rotate_left()\n",
    "tree.pprint()"
   ]
  },
  {
   "cell_type": "markdown",
   "metadata": {},
   "source": [
    "***"
   ]
  }
 ],
 "metadata": {
  "kernelspec": {
   "display_name": "Python 3 (ipykernel)",
   "language": "python",
   "name": "python3"
  },
  "language_info": {
   "codemirror_mode": {
    "name": "ipython",
    "version": 3
   },
   "file_extension": ".py",
   "mimetype": "text/x-python",
   "name": "python",
   "nbconvert_exporter": "python",
   "pygments_lexer": "ipython3",
   "version": "3.10.12"
  },
  "nbTranslate": {
   "displayLangs": [
    "hr",
    "en"
   ],
   "hotkey": "alt-t",
   "langInMainMenu": true,
   "sourceLang": "en",
   "targetLang": "hr",
   "useGoogleTranslate": true
  },
  "toc": {
   "base_numbering": 1,
   "nav_menu": {},
   "number_sections": true,
   "sideBar": true,
   "skip_h1_title": false,
   "title_cell": "Table of Contents",
   "title_sidebar": "Contents",
   "toc_cell": false,
   "toc_position": {},
   "toc_section_display": true,
   "toc_window_display": false
  }
 },
 "nbformat": 4,
 "nbformat_minor": 2
}
