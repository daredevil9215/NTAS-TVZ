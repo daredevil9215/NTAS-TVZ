{
 "cells": [
  {
   "cell_type": "markdown",
   "metadata": {},
   "source": [
    "### Primjer 1 - Obilazak binarnog stabla pretraživanja (BST)"
   ]
  },
  {
   "cell_type": "markdown",
   "metadata": {},
   "source": [
    "Proučiti zadani kôd za implementaciju binarnog stabla pretraživanja te ga ispitati kôd zadavanjem vlastitog primjera binarnog stabla pretraživanja sa šest čvorova."
   ]
  },
  {
   "cell_type": "markdown",
   "metadata": {},
   "source": [
    "**Primjer obilaska binarnog stabla prikazanog na slici.**"
   ]
  },
  {
   "attachments": {
    "vjezba1.png": {
     "image/png": "[encoded data removed]"
    }
   },
   "cell_type": "markdown",
   "metadata": {},
   "source": [
    "![vjezba1.png](attachment:vjezba1.png)"
   ]
  },
  {
   "cell_type": "code",
   "execution_count": 1,
   "metadata": {
    "metadata": {}
   },
   "outputs": [
    {
     "name": "stdout",
     "output_type": "stream",
     "text": [
      "Pre-order obilazak binarnog stabla:\n",
      "28\n",
      "13\n",
      "11\n",
      "19\n",
      "52\n",
      "33\n",
      "72\n",
      "\n",
      "In-order obilazak binarnog stabla:\n",
      "11\n",
      "13\n",
      "19\n",
      "28\n",
      "33\n",
      "52\n",
      "72\n",
      "\n",
      "Post-order obilazak binarnog stabla:\n",
      "11\n",
      "19\n",
      "13\n",
      "33\n",
      "72\n",
      "52\n",
      "28\n"
     ]
    }
   ],
   "source": [
    "# Python program za prikaz obilazaka binarnog stabla\n",
    "  \n",
    "# Python razred koja predstavlja pojedinačni čvor binarnog stabla\n",
    "# kljuc - podatak ili vrijednost čvora\n",
    "class Cvor: \n",
    "    def __init__(self, kljuc): \n",
    "        self.lijevo = None\n",
    "        self.desno = None\n",
    "        self.podatak = kljuc \n",
    "\n",
    "# Funkcija za in-order obilazak\n",
    "def ispisInorder(korijen): \n",
    "  \n",
    "    if korijen: \n",
    "        # rekurzivni odlazak na lijevo podstablo\n",
    "        ispisInorder(korijen.lijevo) \n",
    "  \n",
    "        # ispis čvora/korijena/roditelja\n",
    "        print(korijen.podatak) \n",
    "  \n",
    "        # rekurzivni odlazak na desno desno podstablo\n",
    "        ispisInorder(korijen.desno) \n",
    "\n",
    "# Funkcija za post-order obilazak\n",
    "def ispisPostorder(korijen): \n",
    "  \n",
    "    if korijen: \n",
    "        # rekurzivno na lijevo podstablo\n",
    "        ispisPostorder(korijen.lijevo) \n",
    "  \n",
    "        # rekurzivno na desno podstablo\n",
    "        ispisPostorder(korijen.desno) \n",
    "  \n",
    "        #  printamo roditelja\n",
    "        print(korijen.podatak) \n",
    "\n",
    "# Funkcija za pre-order obilazak\n",
    "def ispisPreorder(korijen): \n",
    "  \n",
    "    if korijen: \n",
    "        # ispis korijena/roditelja\n",
    "        print(korijen.podatak) \n",
    "  \n",
    "        # rekurzivni poziv lijevog podstabla\n",
    "        ispisPreorder(korijen.lijevo) \n",
    "  \n",
    "        # rekurzivni poziv na desnog podstabla\n",
    "        ispisPreorder(korijen.desno) \n",
    "      \n",
    "    \n",
    "# Kôd za pokretanje\n",
    "if __name__ == \"__main__\":\n",
    "    korijen = Cvor(28) \n",
    "    korijen.lijevo = Cvor(13) \n",
    "    korijen.desno = Cvor(52) \n",
    "    \n",
    "    korijen.lijevo.lijevo = Cvor(11) \n",
    "    korijen.lijevo.desno = Cvor(19) \n",
    "    korijen.desno.lijevo = Cvor(33) \n",
    "    korijen.desno.desno = Cvor(72) \n",
    "    \n",
    "          \n",
    "    print (\"Pre-order obilazak binarnog stabla:\")\n",
    "    ispisPreorder(korijen)\n",
    "  \n",
    "    print (\"\\nIn-order obilazak binarnog stabla:\")\n",
    "    ispisInorder(korijen)\n",
    "  \n",
    "    print (\"\\nPost-order obilazak binarnog stabla:\")\n",
    "    ispisPostorder(korijen)"
   ]
  },
  {
   "cell_type": "markdown",
   "metadata": {},
   "source": [
    "### Primjer 2 - Pretvorba binarnog stabla u binarno stablo pretraživanja (BST)"
   ]
  },
  {
   "cell_type": "markdown",
   "metadata": {},
   "source": [
    "Potrebno je pretvoriti zadano binarno stablo u binarno stablo pretraživanja. \n",
    "\n",
    "Primjer 1\n",
    "\n",
    "Ulaz - binarno stablo:\n",
    "       \n",
    "          10\n",
    "         /  \\\n",
    "        2    7\n",
    "       / \\\n",
    "      8   4\n",
    "       \n",
    "Izlaz - binarno stablo pretraživanja:\n",
    "\n",
    "          8\n",
    "         /  \\\n",
    "        4    10\n",
    "       / \\\n",
    "      2   7\n",
    "       \n",
    "    \n",
    "\n",
    "\n",
    "Primjer 2\n",
    "\n",
    "Ulaz - binarno stablo:\n",
    "       \n",
    "          10\n",
    "         /  \\\n",
    "        30   15\n",
    "       /      \\\n",
    "      20       5\n",
    "       \n",
    "       \n",
    "Izlaz - binarno stablo pretraživanja:\n",
    "\n",
    "          15\n",
    "         /  \\\n",
    "       10    20\n",
    "       /      \\\n",
    "      5        30\n",
    "        "
   ]
  },
  {
   "cell_type": "markdown",
   "metadata": {},
   "source": [
    "**Postupak rješavanja:**\n",
    "\n",
    "\n",
    "1. Inorder obilazak stabla i pohranjivanje tog redoslijeda u pomoćno polje *polje[]*. \n",
    "2. Sortiranje pomoćnog polja *polje[]* (ugrađenom Python funkcijom *sort*). \n",
    "3. Ponovni inorder obilazak i kopiranje elemenata polja u čvorove stabla po redu kako su pohranjeni u polju *polje[]*.\n"
   ]
  },
  {
   "cell_type": "code",
   "execution_count": 2,
   "metadata": {
    "metadata": {}
   },
   "outputs": [
    {
     "name": "stdout",
     "output_type": "stream",
     "text": [
      "** Primjer 1 **\n",
      "Inorder ispis binarnog stabla\n",
      "8\n",
      "2\n",
      "4\n",
      "10\n",
      "7\n",
      "Poziv funkcije za pretvorbu:\n",
      "Inorder obilazak dobivenog binarnog stabla pretraživanja\n",
      "Inorder obilazak stabla je sada sortirani niz\n",
      "2\n",
      "4\n",
      "7\n",
      "8\n",
      "10\n",
      "** Primjer 2 **\n",
      "Inorder ispis binarnog stabla\n",
      "20\n",
      "30\n",
      "10\n",
      "15\n",
      "5\n",
      "Poziv funkcije za pretvorbu:\n",
      "Inorder obilazak dobivenog binarnog stabla pretraživanja\n",
      "Inorder obilazak stabla je sada sortirani niz\n",
      "5\n",
      "10\n",
      "15\n",
      "20\n",
      "30\n"
     ]
    }
   ],
   "source": [
    "# Program za pretvorbu binarnog stabla u binarno stablo pretraživanja\n",
    "\n",
    "# Čvor binarnog stabla \n",
    "class Cvor: \n",
    "      \n",
    "    # Konstruktor \n",
    "    def __init__(self, podatak): \n",
    "        self.podatak  = podatak  \n",
    "        self.lijevo = None\n",
    "        self.desno = None\n",
    "          \n",
    "# Pomoćna funkcija za pohranu inorder obilaska stabla \n",
    "def pohraniInorder(korijen, inorder): \n",
    "      \n",
    "    # Osnovni slučaj\n",
    "    if korijen is None: \n",
    "        return \n",
    "      \n",
    "    # Pohrana lijevog podstabla \n",
    "    pohraniInorder(korijen.lijevo, inorder) \n",
    "      \n",
    "    # Spremanje podatka u korijenu \n",
    "    inorder.append(korijen.podatak) \n",
    "  \n",
    "    # Pohrana desnog podstabla \n",
    "    pohraniInorder(korijen.desno, inorder) \n",
    "\n",
    "# Pomoćna funkcija za kopiranje sadržaja sortiranog polja u binarno stablo pretraživanja\n",
    "def poljeUBinarnoStablo(polje, korijen): \n",
    "  \n",
    "    # Osnovni slučaj \n",
    "    if korijen is None: \n",
    "        return \n",
    "      \n",
    "    # Prijenos podataka u lijevo podstablo \n",
    "    poljeUBinarnoStablo(polje, korijen.lijevo) \n",
    "  \n",
    "    # Upis podatka u trenutni korijen \n",
    "    korijen.podatak = polje[0] \n",
    "    polje.pop(0) \n",
    "  \n",
    "    # Prijenos podataka u desno podstablo \n",
    "    poljeUBinarnoStablo(polje, korijen.desno) \n",
    "\n",
    "# Funkcija za pretvorbu binarnog stabla u binarno stablo pretraživanja\n",
    "def binarnoStabloUBST(korijen): \n",
    "      \n",
    "    # Osnovni slučaj  \n",
    "    if korijen is None: \n",
    "        return \n",
    "  \n",
    "    # Pohrana u privremeno polje  \n",
    "    polje = [] \n",
    "    pohraniInorder(korijen, polje) \n",
    "      \n",
    "    # Sortiranje polja \n",
    "    polje.sort() \n",
    "  \n",
    "    # Vraćanje podataka u stablo \n",
    "    poljeUBinarnoStablo(polje, korijen) \n",
    "\n",
    "# Inorder ispis\n",
    "def ispisInorder(korijen): \n",
    "    if korijen is None: \n",
    "        return\n",
    "    ispisInorder(korijen.lijevo) \n",
    "    print (korijen.podatak)  \n",
    "    ispisInorder(korijen.desno)          \n",
    "        \n",
    "# Program za ispitivanje funkcionalnosti\n",
    "if __name__ == \"__main__\":\n",
    "    \n",
    "    \"\"\"\n",
    "    Ulaz - binarno stablo:\n",
    "       \n",
    "          10\n",
    "         /  \\        a)\n",
    "        2    7\n",
    "       / \\\n",
    "      8   4\n",
    "       \n",
    "    Izlaz - binarno stablo pretraživanja:\n",
    "\n",
    "          8\n",
    "         /  \\\n",
    "        4    10      b)\n",
    "       / \\\n",
    "      2   7\n",
    "    \n",
    "    \n",
    "     \n",
    "    \"\"\"\n",
    "    # zadavanje binarnog stabla (primjer 1) prema slici a) - nakon pretvorbe u BST dobije se stablo prema slici b)\n",
    "    print (\"** Primjer 1 **\")\n",
    "    korijen = Cvor(10) \n",
    "    korijen.lijevo = Cvor(2) \n",
    "    korijen.desno = Cvor(7) \n",
    "    korijen.lijevo.lijevo = Cvor(8) \n",
    "    korijen.lijevo.desno= Cvor(4) \n",
    "\n",
    "    print(\"Inorder ispis binarnog stabla\")\n",
    "    ispisInorder(korijen) \n",
    "    \n",
    "    \n",
    "    print(\"Poziv funkcije za pretvorbu:\") \n",
    "    # Pretvorba binarnog stabla u binarno stablo pretraživanja\n",
    "    binarnoStabloUBST(korijen) \n",
    "  \n",
    "    print (\"Inorder obilazak dobivenog binarnog stabla pretraživanja\")\n",
    "    print (\"Inorder obilazak stabla je sada sortirani niz\")\n",
    "    ispisInorder(korijen) \n",
    "    \n",
    "    # zadavanje binarnog stabla (primjer 2) prema slici a) - nakon pretvorbe u BST dobije se stablo prema slici b)\n",
    "    print (\"** Primjer 2 **\")\n",
    "    korijen = Cvor(10) \n",
    "    korijen.lijevo = Cvor(30) \n",
    "    korijen.desno = Cvor(15) \n",
    "    korijen.lijevo.lijevo = Cvor(20) \n",
    "    korijen.desno.desno= Cvor(5) \n",
    "\n",
    "    print(\"Inorder ispis binarnog stabla\")\n",
    "    ispisInorder(korijen) \n",
    "    \n",
    "    \n",
    "    print(\"Poziv funkcije za pretvorbu:\") \n",
    "    # Pretvorba binarnog stabla u binarno stablo pretraživanja\n",
    "    binarnoStabloUBST(korijen) \n",
    "  \n",
    "    print (\"Inorder obilazak dobivenog binarnog stabla pretraživanja\")\n",
    "    print (\"Inorder obilazak stabla je sada sortirani niz\")\n",
    "    ispisInorder(korijen)"
   ]
  },
  {
   "cell_type": "markdown",
   "metadata": {},
   "source": [
    "1. ZADATAK: Implementirati u prethodnom programu globalnu funkciju koja će vam ispisati sve listove stabla (rekurzivno) i ugraditi brojač (globalna varijabla) koji broji koliko ukupno ima listova. Globalna varijabla se postavlja izvan bilo koje funkcije npr. *brojac = 0*, a u nekoj funkciji deklarira se sa: *global brojac*."
   ]
  },
  {
   "cell_type": "code",
   "execution_count": 3,
   "metadata": {
    "metadata": {}
   },
   "outputs": [
    {
     "name": "stdout",
     "output_type": "stream",
     "text": [
      "Zadatak 1:\n",
      "Ispis listova\n",
      "8\n",
      "4\n",
      "7\n",
      "Broj listova: 3\n"
     ]
    }
   ],
   "source": [
    "brojac = 0\n",
    "def ispisListova(korijen):\n",
    "    global brojac\n",
    "\n",
    "    if korijen.lijevo == None and korijen.desno == None and korijen.podatak != None:\n",
    "        brojac += 1\n",
    "        print(korijen.podatak)\n",
    "        return\n",
    "    \n",
    "    ispisListova(korijen.lijevo)\n",
    "    ispisListova(korijen.desno)\n",
    "\n",
    "if __name__ == \"__main__\":\n",
    "    # zadavanje binarnog stabla (primjer 1) prema slici a) - nakon pretvorbe u BST dobije se stablo prema slici b)\n",
    "    korijen = Cvor(10) \n",
    "    korijen.lijevo = Cvor(2) \n",
    "    korijen.desno = Cvor(7) \n",
    "    korijen.lijevo.lijevo = Cvor(8) \n",
    "    korijen.lijevo.desno= Cvor(4) \n",
    "\n",
    "    # Provjera rješenja zadanih zadataka\n",
    "    print(\"Zadatak 1:\")\n",
    "    print(\"Ispis listova\")\n",
    "    ispisListova(korijen)\n",
    "    print(\"Broj listova:\", brojac)"
   ]
  },
  {
   "cell_type": "markdown",
   "metadata": {},
   "source": [
    "2. ZADATAK: Implementirati (rekurzivno) u prethodnom programu globalne funkcije za preorder  (korijen -> lijevo dijete -> desno dijete) i postorder (lijevo dijete -> desno dijete -> korijen) obilaske stabla. \n",
    "                "
   ]
  },
  {
   "cell_type": "code",
   "execution_count": 4,
   "metadata": {
    "metadata": {}
   },
   "outputs": [
    {
     "name": "stdout",
     "output_type": "stream",
     "text": [
      "Zadatak 2:\n",
      "Preorder ispis binarnog stabla\n",
      "10\n",
      "2\n",
      "8\n",
      "4\n",
      "7\n",
      "\n",
      "Postorder ispis binarnog stabla\n",
      "2\n",
      "8\n",
      "4\n",
      "7\n",
      "10\n"
     ]
    }
   ],
   "source": [
    "def preorderObilazak(korijen):\n",
    "    if korijen == None:\n",
    "        return\n",
    "    print(korijen.podatak)\n",
    "    preorderObilazak(korijen.lijevo)\n",
    "    preorderObilazak(korijen.desno)\n",
    "\n",
    "def postorderObilazak(korijen):\n",
    "    if korijen == None:\n",
    "        return\n",
    "    preorderObilazak(korijen.lijevo)\n",
    "    preorderObilazak(korijen.desno)\n",
    "    print(korijen.podatak)\n",
    "\n",
    "# Program za ispitivanje funkcionalnosti\n",
    "if __name__ == \"__main__\":\n",
    "    # zadavanje binarnog stabla (primjer 1) prema slici a) - nakon pretvorbe u BST dobije se stablo prema slici b)\n",
    "    korijen = Cvor(10) \n",
    "    korijen.lijevo = Cvor(2) \n",
    "    korijen.desno = Cvor(7) \n",
    "    korijen.lijevo.lijevo = Cvor(8) \n",
    "    korijen.lijevo.desno= Cvor(4) \n",
    "\n",
    "    # Provjera rješenja zadanih zadataka\n",
    "    print(\"Zadatak 2:\")\n",
    "    print(\"Preorder ispis binarnog stabla\")\n",
    "    preorderObilazak(korijen) \n",
    "    \n",
    "    print(\"\\nPostorder ispis binarnog stabla\")\n",
    "    postorderObilazak(korijen) "
   ]
  },
  {
   "cell_type": "markdown",
   "metadata": {},
   "source": [
    "3. ZADATAK: Implementirati globalne funkcije za traženje najmanje i najveće vrijednosti u stablu (rekurzivno) nakon što je napravljena pretvorba običnog binarnog stabla u binarno stablo pretraživanja.\n",
    "    "
   ]
  },
  {
   "cell_type": "code",
   "execution_count": 5,
   "metadata": {
    "metadata": {}
   },
   "outputs": [
    {
     "name": "stdout",
     "output_type": "stream",
     "text": [
      "Najmanja: 2\n",
      "Najveca: 10\n"
     ]
    }
   ],
   "source": [
    "def najmanjaVrijednost(korijen):\n",
    "    if korijen.lijevo == None:\n",
    "        return korijen.podatak\n",
    "    return najmanjaVrijednost(korijen.lijevo)\n",
    "    \n",
    "        \n",
    "def najvecaVrijednost(korijen):\n",
    "    if korijen.desno == None:\n",
    "        return korijen.podatak\n",
    "    return najmanjaVrijednost(korijen.desno)\n",
    "\n",
    "# Program za ispitivanje funkcionalnosti\n",
    "if __name__ == \"__main__\":\n",
    "    # zadavanje binarnog stabla (primjer 1) prema slici a) - nakon pretvorbe u BST dobije se stablo prema slici b)\n",
    "    korijen = Cvor(10) \n",
    "    korijen.lijevo = Cvor(2) \n",
    "    korijen.desno = Cvor(7) \n",
    "    korijen.lijevo.lijevo = Cvor(8) \n",
    "    korijen.lijevo.desno= Cvor(4) \n",
    "\n",
    "    binarnoStabloUBST(korijen)\n",
    "    najmanja = najmanjaVrijednost(korijen)\n",
    "    print(f'Najmanja: {najmanja}')\n",
    "    najveca = najvecaVrijednost(korijen)\n",
    "    print(f'Najveca: {najveca}')"
   ]
  },
  {
   "cell_type": "markdown",
   "metadata": {},
   "source": [
    "4. ZADATAK: Implementirati globalnu funkciju (rekurzivno) za određivanje visine stabla. Uputa: rekurzivno se računa visina kao 1 + *max*(visina lijevog podstabla, visina desnog podstabla) na svakoj razini. Osnovni slučaj je ako je korijen jednak null (None), tj. stablo je prazno, i tada je visina 0.\n"
   ]
  },
  {
   "cell_type": "code",
   "execution_count": 6,
   "metadata": {
    "metadata": {}
   },
   "outputs": [
    {
     "name": "stdout",
     "output_type": "stream",
     "text": [
      "\n",
      "Zadatak 4:\n",
      "visina\n",
      "3\n"
     ]
    }
   ],
   "source": [
    "def dohvati_visinu(korijen):\n",
    "    if korijen == None:\n",
    "        return 0\n",
    "    else:\n",
    "        lijevo_vis = dohvati_visinu(korijen.lijevo)\n",
    "        desno_vis = dohvati_visinu(korijen.desno)\n",
    "        return 1 + max(lijevo_vis, desno_vis)\n",
    "\n",
    "# Program za ispitivanje funkcionalnosti\n",
    "if __name__ == \"__main__\":\n",
    "    # zadavanje binarnog stabla (primjer 1) prema slici a) - nakon pretvorbe u BST dobije se stablo prema slici b)\n",
    "    korijen = Cvor(10) \n",
    "    korijen.lijevo = Cvor(2) \n",
    "    korijen.desno = Cvor(7) \n",
    "    korijen.lijevo.lijevo = Cvor(8) \n",
    "    korijen.lijevo.desno= Cvor(4) \n",
    "\n",
    "    print(\"\\nZadatak 4:\")\n",
    "    print(\"visina\")\n",
    "    print(dohvati_visinu(korijen))"
   ]
  },
  {
   "cell_type": "markdown",
   "metadata": {},
   "source": [
    "5. ZADATAK: Implementirati funkciju za obilazak po širini (ispis po razinama s lijeva na desno). Npr. za stablo na slici a) u prethodnom kodu tj obilazak treba dati 10, 2, 7, 8, 4, a za sliku b) treba se dobiti ispis 8, 4, 10, 2, 7. Moguća su dva načina: rekurzivni (treba znati visinu stabla) i iterativni uz pomoć reda (*queue*). Riješiti oba primjera i ispitati na zadanim stablima."
   ]
  },
  {
   "cell_type": "code",
   "execution_count": 7,
   "metadata": {
    "metadata": {}
   },
   "outputs": [
    {
     "name": "stdout",
     "output_type": "stream",
     "text": [
      "\n",
      "Zadatak 5:\n",
      "Ispis obilaska stabla po razinama (rekurzivno)\n",
      "10\n",
      "2\n",
      "7\n",
      "8\n",
      "4\n",
      "Ispis obilaska stabla po razinama (iterativno)\n",
      "10\n",
      "2\n",
      "7\n",
      "8\n",
      "4\n"
     ]
    }
   ],
   "source": [
    "\"\"\"\n",
    "    Ulaz - binarno stablo:\n",
    "       \n",
    "          10\n",
    "         /  \\        a)\n",
    "        2    7\n",
    "       / \\\n",
    "      8   4\n",
    "       \n",
    "    Izlaz - binarno stablo pretraživanja:\n",
    "\n",
    "          8\n",
    "         /  \\\n",
    "        4    10      b)\n",
    "       / \\\n",
    "      2   7\n",
    "    \n",
    "    \n",
    "     \n",
    "\"\"\"\n",
    "\n",
    "def ispisPoRazinamaRekurzivno(korijen):\n",
    "    h =dohvati_visinu(korijen)\n",
    "    for i in range(1, h+1):\n",
    "        ispisRazine(korijen, i)\n",
    "\n",
    "def ispisRazine(korijen: Cvor, razina):\n",
    "    \n",
    "    if korijen == None:\n",
    "        return\n",
    "    \n",
    "    if razina == 1:\n",
    "        print(korijen.podatak)\n",
    "\n",
    "    elif razina > 1:\n",
    "        ispisRazine(korijen.lijevo, razina-1)\n",
    "        ispisRazine(korijen.desno, razina-1)\n",
    "\n",
    "\n",
    "def ispisPoRazinamaIterativno(korijen: Cvor):\n",
    "    \n",
    "    if korijen == None:\n",
    "        return\n",
    "    \n",
    "    red = []\n",
    "\n",
    "    red.append(korijen)\n",
    "\n",
    "    while len(red) > 0:\n",
    "\n",
    "        print(red[0].podatak)\n",
    "        \n",
    "        cvor = red.pop(0)\n",
    "\n",
    "        if cvor.lijevo != None:\n",
    "            red.append(cvor.lijevo)\n",
    "\n",
    "        if cvor.desno != None:\n",
    "            red.append(cvor.desno)\n",
    "\n",
    "if __name__ == \"__main__\":\n",
    "    # zadavanje binarnog stabla (primjer 1) prema slici a) - nakon pretvorbe u BST dobije se stablo prema slici b)\n",
    "    korijen = Cvor(10) \n",
    "    korijen.lijevo = Cvor(2) \n",
    "    korijen.desno = Cvor(7) \n",
    "    korijen.lijevo.lijevo = Cvor(8) \n",
    "    korijen.lijevo.desno= Cvor(4) \n",
    "\n",
    "    print(\"\\nZadatak 5:\")\n",
    "    print (\"Ispis obilaska stabla po razinama (rekurzivno)\")\n",
    "    ispisPoRazinamaRekurzivno(korijen) \n",
    "  \n",
    "    print (\"Ispis obilaska stabla po razinama (iterativno)\")\n",
    "    ispisPoRazinamaIterativno(korijen) "
   ]
  }
 ],
 "metadata": {
  "kernelspec": {
   "display_name": "Python 3 (ipykernel)",
   "language": "python",
   "name": "python3"
  },
  "language_info": {
   "codemirror_mode": {
    "name": "ipython",
    "version": 3
   },
   "file_extension": ".py",
   "mimetype": "text/x-python",
   "name": "python",
   "nbconvert_exporter": "python",
   "pygments_lexer": "ipython3",
   "version": "3.10.12"
  },
  "nbTranslate": {
   "displayLangs": [
    "hr",
    "en"
   ],
   "hotkey": "alt-t",
   "langInMainMenu": true,
   "sourceLang": "en",
   "targetLang": "hr",
   "useGoogleTranslate": true
  },
  "toc": {
   "base_numbering": 1,
   "nav_menu": {},
   "number_sections": true,
   "sideBar": true,
   "skip_h1_title": false,
   "title_cell": "Table of Contents",
   "title_sidebar": "Contents",
   "toc_cell": false,
   "toc_position": {},
   "toc_section_display": true,
   "toc_window_display": false
  }
 },
 "nbformat": 4,
 "nbformat_minor": 2
}
