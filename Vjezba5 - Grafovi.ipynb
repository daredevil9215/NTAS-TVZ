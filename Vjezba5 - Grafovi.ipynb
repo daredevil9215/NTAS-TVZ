{
 "cells": [
  {
   "cell_type": "markdown",
   "metadata": {},
   "source": [
    "### Implementacija razreda Graph"
   ]
  },
  {
   "cell_type": "code",
   "execution_count": 129,
   "metadata": {},
   "outputs": [],
   "source": [
    "\"\"\" Razred Graph() i popratne slike preuzeti sa stranice:\n",
    "https://www.python-course.eu/graphs_python.php\n",
    "\"\"\"\n",
    "\n",
    "class Graph(object):\n",
    "\n",
    "    def __init__(self, graph_dict=None):\n",
    "        \"\"\" inicijalizacija objekta:\n",
    "            ako ništa nije predano inicijalizira se prazna struktura rječnika\n",
    "        \"\"\"\n",
    "        if graph_dict == None:\n",
    "            graph_dict = {}\n",
    "        self._graph_dict = graph_dict\n",
    "\n",
    "    def edges(self, vertice):\n",
    "        \"\"\" vraća listu bridova za neki vrh\"\"\"\n",
    "        return self._graph_dict[vertice]\n",
    "        \n",
    "    def all_vertices(self):\n",
    "        \"\"\" vraća vrhove grafa \"\"\"\n",
    "        return set(self._graph_dict.keys())\n",
    "\n",
    "    def all_edges(self):\n",
    "        \"\"\" vraća bridove grafa \"\"\"\n",
    "        return self.__generate_edges()\n",
    "\n",
    "    def add_vertex(self, vertex):\n",
    "        \"\"\" dodavanje novog vrha \"\"\"\n",
    "        if vertex not in self._graph_dict:\n",
    "            self._graph_dict[vertex] = []\n",
    "\n",
    "    def add_edge(self, edge):\n",
    "        \"\"\" dodavanje brida \"\"\"\n",
    "        edge = set(edge)\n",
    "        vertex1, vertex2 = tuple(edge)\n",
    "        for x, y in [(vertex1, vertex2), (vertex2, vertex1)]:\n",
    "            if x in self._graph_dict:\n",
    "                self._graph_dict[x].append(y)\n",
    "            else:\n",
    "                self._graph_dict[x] = [y]\n",
    "\n",
    "    def __generate_edges(self):\n",
    "        \"\"\" metoda za dobivanje liste bridova grafa \"\"\" \n",
    "        edges = []\n",
    "        for vertex in self._graph_dict:\n",
    "            for neighbour in self._graph_dict[vertex]:\n",
    "                if {neighbour, vertex} not in edges:\n",
    "                    edges.append({vertex, neighbour})\n",
    "        return edges\n",
    "    \n",
    "    def __iter__(self):\n",
    "        self._iter_obj = iter(self._graph_dict)\n",
    "        return self._iter_obj\n",
    "    \n",
    "    def __next__(self):\n",
    "        \"\"\" pomoćna metoda za iteriranje kroz vrhove \"\"\"\n",
    "        return next(self._iter_obj)\n",
    "\n",
    "    def __str__(self):\n",
    "        res = \"vrhovi: \"\n",
    "        for k in self._graph_dict:\n",
    "            res += str(k) + \" \"\n",
    "        res += \"\\nrubovi: \"\n",
    "        for edge in self.__generate_edges():\n",
    "            res += str(edge) + \" \"\n",
    "        return res\n",
    "\n",
    "    def find_path(self, start_vertex, end_vertex, path=None):\n",
    "        \"\"\" pronalaženje puta između dva vrha \"\"\"\n",
    "        if path == None:\n",
    "            path = []\n",
    "        graph = self._graph_dict\n",
    "        path = path + [start_vertex]\n",
    "        if start_vertex == end_vertex:\n",
    "            return path\n",
    "        if start_vertex not in graph:\n",
    "            return None\n",
    "        for vertex in graph[start_vertex]:\n",
    "            if vertex not in path:\n",
    "                extended_path = self.find_path(vertex, \n",
    "                                               end_vertex, \n",
    "                                               path)\n",
    "                if extended_path: \n",
    "                    return extended_path\n",
    "        return None\n",
    "    \n",
    "    \n",
    "    def find_all_paths(self, start_vertex, end_vertex, path=[]):\n",
    "        \"\"\" pronalaženje svih puteva između dva vrha \"\"\"\n",
    "        graph = self._graph_dict \n",
    "        path = path + [start_vertex]\n",
    "        if start_vertex == end_vertex:\n",
    "            return [path]\n",
    "        if start_vertex not in graph:\n",
    "            return []\n",
    "        paths = []\n",
    "        for vertex in graph[start_vertex]:\n",
    "            if vertex not in path:\n",
    "                extended_paths = self.find_all_paths(vertex, \n",
    "                                                     end_vertex, \n",
    "                                                     path)\n",
    "                for p in extended_paths: \n",
    "                    paths.append(p)\n",
    "        return paths\n",
    "    \n",
    "    def vertex_degree(self, vertex):\n",
    "        \"\"\" vraća stupanj vrha \"\"\" \n",
    "        degree =  len(self._graph_dict[vertex]) \n",
    "        if vertex in self._graph_dict[vertex]:\n",
    "            degree += 1\n",
    "        return degree\n",
    "\n",
    "    def find_isolated_vertices(self):\n",
    "        \"\"\" vraća listu izoliranih vrhova \"\"\"\n",
    "        graph = self._graph_dict\n",
    "        isolated = []\n",
    "        for vertex in graph:\n",
    "            print(isolated, vertex)\n",
    "            if not graph[vertex]:\n",
    "                isolated += [vertex]\n",
    "        return isolated\n",
    "        \n",
    "    def Delta(self):\n",
    "        \"\"\" najveći stupanj između svih vrhova \"\"\"\n",
    "        max = 0\n",
    "        for vertex in self._graph_dict:\n",
    "            vertex_degree = self.vertex_degree(vertex)\n",
    "            if vertex_degree > max:\n",
    "                max = vertex_degree\n",
    "        return max\n",
    "    \n",
    "    def degree_sequence(self):\n",
    "        \"\"\" vraća sekvencu stupnjeva \"\"\"\n",
    "        seq = []\n",
    "        for vertex in self._graph_dict:\n",
    "            seq.append(self.vertex_degree(vertex))\n",
    "        seq.sort(reverse=True)\n",
    "        return tuple(seq)\n",
    "    \n",
    "    def density(self):\n",
    "        \"\"\" izračun gustoće grafa \"\"\"\n",
    "        g = self._graph_dict\n",
    "        V = len(g.keys())\n",
    "        E = len(self.all_edges())\n",
    "        return 2.0 * E / (V *(V - 1))\n",
    "    \n",
    "    def diameter(self):\n",
    "        \"\"\" izračun dijametra grafa\"\"\"\n",
    "        \n",
    "        v = tuple(self.all_vertices()) \n",
    "        pairs = [ (v[i],v[j]) for i in range(len(v)-1) for j in range(i+1, len(v))]\n",
    "        smallest_paths = []\n",
    "        for (s,e) in pairs:\n",
    "            paths = self.find_all_paths(s,e)\n",
    "            smallest = sorted(paths, key=len)[0]\n",
    "            smallest_paths.append(smallest)\n",
    "\n",
    "        smallest_paths.sort(key=len)\n",
    "\n",
    "        # longest path is at the end of list, \n",
    "        # i.e. diameter corresponds to the length of this path\n",
    "        diameter = len(smallest_paths[-1])-1\n",
    "        return diameter"
   ]
  },
  {
   "cell_type": "markdown",
   "metadata": {},
   "source": [
    "## Crtanje grafova uporabom NetworkX modula"
   ]
  },
  {
   "cell_type": "code",
   "execution_count": 130,
   "metadata": {},
   "outputs": [],
   "source": [
    "# Metoda za crtanje grafa\n",
    "import networkx as nx\n",
    "import matplotlib.pyplot as plt\n",
    "\n",
    "def draw_graph(graph):\n",
    "    # stvaranje NetworkX graf objekta \n",
    "    G=nx.Graph()\n",
    "\n",
    "    # dodavanje rubova\n",
    "    for edge in graph:\n",
    "        vertex1 = edge.pop()\n",
    "        if edge:\n",
    "            # nije petlja\n",
    "            vertex2 = edge.pop()\n",
    "        else:\n",
    "            # petlja\n",
    "            vertex2 = vertex1\n",
    "        G.add_edge(vertex1, vertex2, weigth=1)\n",
    "\n",
    "    # Postoje različiti predlošci grafa: 'shell', 'spring', 'spectral' and 'random'. Ovdje se koristi 'shell' i 'spring'.\n",
    "    #graph_pos = nx.shell_layout(G)\n",
    "    graph_pos = nx.spring_layout(G)\n",
    "\n",
    "    # crtanje čvorova, bridova i labela\n",
    "    nx.draw_networkx_nodes(G, graph_pos, node_size=1000, node_color='blue', alpha=0.3)\n",
    "    nx.draw_networkx_edges(G, graph_pos)\n",
    "    nx.draw_networkx_labels(G, graph_pos, font_size=12, font_family='sans-serif')\n",
    "    \n",
    "    print(\"dijametar: \", nx.diameter(G))\n",
    "\n",
    "    # prikaz slike grafa\n",
    "    plt.show()"
   ]
  },
  {
   "cell_type": "markdown",
   "metadata": {},
   "source": [
    "# Kôd za pokretanje zadataka\n",
    "\n",
    "Upoznati se razredom Graph i s funkcijom za crtanje grafa pomoću NetworkX modula.\n",
    "\n",
    "1. Dopuniti postojeći rječnik s dodatnih šest osoba (povezivanje po vlastitoj volji).\n",
    "2. Nacrtati graf nakon proširenja i formiranja.\n",
    "3. Ispisati graf nakon formiranja.\n",
    "4. Ispisati stupnjeve svih vrhova grafa.\n",
    "5. Ispisati putanje za pet različitih parova osoba.\n",
    "6. Ispisati dijametar grafa.\n",
    "7. Ispisati gustoću grafa i diskutirati dobiveni rezultat.\n",
    "8. Ispisati sve bridove grafa.\n",
    "9. Ispisati sekvencu stupnjeva vrhova.\n",
    "10. Temeljem analize centralnosti grafa odrediti čvor s najvećim utjecajem na prijatelje."
   ]
  },
  {
   "cell_type": "code",
   "execution_count": 131,
   "metadata": {},
   "outputs": [],
   "source": [
    "from operator import itemgetter\n",
    "\n",
    "# Primjer grafa - dopuniti sa svim zadacima\n",
    "if __name__ == \"__main__\":\n",
    "    \n",
    "    \"\"\" Zadaje se rječnik male skupine neke društvene mreže koja se oblikuje kao graf\"\"\"    \n",
    "    g = { \"Petar\"  : [\"Maja\", \"Robert\", \"Josip\"],\n",
    "          \"Maja\"   : [\"Petar\", \"Ivo\", \"Ana\"],\n",
    "          \"Robert\" : [\"Petar\", \"Mia\", \"Ljilja\", \"Mijo\"],\n",
    "          \"Josip\"  : [\"Petar\", \"Alen\", \"Ena\"],\n",
    "          \"Goran\"  : [\"Ljilja\", \"Alen\", \"Zoran\"],\n",
    "          \"Ljilja\" : [\"Robert\", \"Goran\"],\n",
    "          \"Alen\"   : [\"Goran\", \"Josip\"],\n",
    "          \"Ivo\"    : [\"Maja\"],\n",
    "          \"Ana\"    : [\"Maja\"],\n",
    "          \"Mia\"    : [\"Robert\"],\n",
    "          \"Zoran\"  : [\"Goran\"],    \n",
    "          \"Ena\"    : [\"Josip\"],\n",
    "          \"Mijo\"   : [\"Robert\"]\n",
    "        }\n",
    "    \n",
    "    \"\"\"formiranje grafa pomoću razreda Graph \"\"\" \n",
    "    graph = Graph(g)"
   ]
  },
  {
   "cell_type": "code",
   "execution_count": 132,
   "metadata": {},
   "outputs": [
    {
     "name": "stdout",
     "output_type": "stream",
     "text": [
      "Zadatak 2: izgled grafa\n",
      "dijametar:  6\n"
     ]
    },
    {
     "data": {
      "image/png": "[encoded data removed]",
      "text/plain": [
       "<Figure size 640x480 with 1 Axes>"
      ]
     },
     "metadata": {},
     "output_type": "display_data"
    }
   ],
   "source": [
    "print(\"Zadatak 2: izgled grafa\")\n",
    "graph_crtaj = graph.all_edges()\n",
    "draw_graph(graph_crtaj)"
   ]
  },
  {
   "cell_type": "code",
   "execution_count": 133,
   "metadata": {},
   "outputs": [
    {
     "name": "stdout",
     "output_type": "stream",
     "text": [
      "Zadatak 3: vrhovi i bridovi\n",
      "[{'Petar', 'Maja'}, {'Petar', 'Robert'}, {'Petar', 'Josip'}, {'Ivo', 'Maja'}, {'Maja', 'Ana'}, {'Robert', 'Mia'}, {'Robert', 'Ljilja'}, {'Robert', 'Mijo'}, {'Josip', 'Alen'}, {'Josip', 'Ena'}, {'Goran', 'Ljilja'}, {'Goran', 'Alen'}, {'Goran', 'Zoran'}]\n",
      "{'Maja', 'Alen', 'Mia', 'Josip', 'Ljilja', 'Mijo', 'Zoran', 'Petar', 'Robert', 'Ena', 'Ana', 'Ivo', 'Goran'}\n"
     ]
    }
   ],
   "source": [
    "print(\"Zadatak 3: vrhovi i bridovi\")\n",
    "print(graph.all_edges())\n",
    "print(graph.all_vertices())"
   ]
  },
  {
   "cell_type": "code",
   "execution_count": 134,
   "metadata": {},
   "outputs": [
    {
     "name": "stdout",
     "output_type": "stream",
     "text": [
      "Zadatak 4: stupnjevi vrhova\n",
      "(4, 3, 3, 3, 3, 2, 2, 1, 1, 1, 1, 1, 1)\n"
     ]
    }
   ],
   "source": [
    "print(\"Zadatak 4: stupnjevi vrhova\")\n",
    "print(graph.degree_sequence())"
   ]
  },
  {
   "cell_type": "code",
   "execution_count": 135,
   "metadata": {},
   "outputs": [
    {
     "name": "stdout",
     "output_type": "stream",
     "text": [
      "Zadatak 5: putanje između vrhova\n",
      "Robert: 4\n",
      "Ena: 1\n",
      "Ana: 1\n",
      "Ivo: 1\n",
      "Goran: 3\n"
     ]
    }
   ],
   "source": [
    "print(\"Zadatak 5: putanje između vrhova\")\n",
    "\n",
    "for ime in ['Robert', 'Ena', 'Ana', 'Ivo', 'Goran']:\n",
    "    print(f'{ime}: {graph.vertex_degree(ime)}')"
   ]
  },
  {
   "cell_type": "code",
   "execution_count": 136,
   "metadata": {},
   "outputs": [
    {
     "name": "stdout",
     "output_type": "stream",
     "text": [
      "Zadatak 6: dijametar\n",
      "6\n"
     ]
    }
   ],
   "source": [
    "print(\"Zadatak 6: dijametar\")\n",
    "print(graph.diameter())"
   ]
  },
  {
   "cell_type": "code",
   "execution_count": 137,
   "metadata": {},
   "outputs": [
    {
     "name": "stdout",
     "output_type": "stream",
     "text": [
      "Zadatak 7: gustoća\n",
      "0.16666666666666666\n"
     ]
    }
   ],
   "source": [
    "print(\"Zadatak 7: gustoća\")\n",
    "print(graph.density())"
   ]
  },
  {
   "cell_type": "code",
   "execution_count": 138,
   "metadata": {},
   "outputs": [
    {
     "name": "stdout",
     "output_type": "stream",
     "text": [
      "Zadatak 8: ispis bridova\n",
      "vrhovi: Petar Maja Robert Josip Goran Ljilja Alen Ivo Ana Mia Zoran Ena Mijo \n",
      "rubovi: {'Petar', 'Maja'} {'Petar', 'Robert'} {'Petar', 'Josip'} {'Ivo', 'Maja'} {'Maja', 'Ana'} {'Robert', 'Mia'} {'Robert', 'Ljilja'} {'Robert', 'Mijo'} {'Josip', 'Alen'} {'Josip', 'Ena'} {'Goran', 'Ljilja'} {'Goran', 'Alen'} {'Goran', 'Zoran'} \n"
     ]
    }
   ],
   "source": [
    "print(\"Zadatak 8: ispis bridova\")\n",
    "print(graph)"
   ]
  },
  {
   "cell_type": "code",
   "execution_count": 139,
   "metadata": {},
   "outputs": [
    {
     "name": "stdout",
     "output_type": "stream",
     "text": [
      "Zadatak 9: sekvenca stupnjeva čvorova\n",
      "(4, 3, 3, 3, 3, 2, 2, 1, 1, 1, 1, 1, 1)\n"
     ]
    }
   ],
   "source": [
    "print(\"Zadatak 9: sekvenca stupnjeva čvorova\")\n",
    "\n",
    "print(graph.degree_sequence())"
   ]
  },
  {
   "cell_type": "code",
   "execution_count": 140,
   "metadata": {},
   "outputs": [
    {
     "name": "stdout",
     "output_type": "stream",
     "text": [
      "Zadatak 10: čvor s najvećim izravnim utjecajem na prijatelje\n",
      "Degrees: ('Robert', 4)\n"
     ]
    }
   ],
   "source": [
    "print(\"Zadatak 10: čvor s najvećim izravnim utjecajem na prijatelje\")\n",
    "# Pomoć: stvaranje NetworkX graf objekta \n",
    "G=nx.Graph()\n",
    "G.add_nodes_from(g.keys())\n",
    "for k, v in g.items():\n",
    "    G.add_edges_from(([(k, t) for t in v]))\n",
    "\n",
    "degrees = list(G.degree)\n",
    "degrees.sort(key= lambda m: m[1], reverse=True)\n",
    "print(f'Degrees: {degrees[0]}')"
   ]
  },
  {
   "cell_type": "markdown",
   "metadata": {},
   "source": [
    "# LMS"
   ]
  },
  {
   "cell_type": "code",
   "execution_count": 141,
   "metadata": {},
   "outputs": [
    {
     "name": "stdout",
     "output_type": "stream",
     "text": [
      "Dijametar: 5\n",
      "Dijametar: 7\n",
      "Gustoca: 0.187\n",
      "Gustoca: 0.187\n",
      "Stupnjevi: [('Josip', 5), ('Marko', 4), ('Ana', 3), ('Ivana', 3), ('Nada', 3), ('Mirjana', 2), ('Ivica', 2), ('Stjepan', 2), ('Ivan', 2), ('Tomislav', 2), ('Dragica', 2), ('Marija', 2), ('Damir', 1), ('Vesna', 1)]\n",
      "Stupnjevi: 4\n"
     ]
    }
   ],
   "source": [
    "import networkx as nx\n",
    "\n",
    "ljudi = {\"Damir\": [\"Josip\"],\n",
    "         \"Josip\": [\"Damir\", \"Mirjana\", \"Marko\", \"Ivica\"],\n",
    "         \"Mirjana\": [\"Josip\", \"Marko\"],\n",
    "         \"Marko\": [\"Mirjana\", \"Josip\", \"Stjepan\", \"Ivan\"],\n",
    "         \"Ivica\": [\"Josip\", \"Ana\"],\n",
    "         \"Stjepan\": [\"Marko\", \"Ana\"],\n",
    "         \"Ivan\": [\"Marko\", \"Tomislav\"],\n",
    "         \"Tomislav\": [\"Ivan\", \"Ivana\"],\n",
    "         \"Ana\": [\"Stjepan\", \"Ivica\", \"Ivana\"],\n",
    "         \"Ivana\": [\"Tomislav\", \"Ana\", \"Dragica\"],\n",
    "         \"Dragica\": [\"Ivana\", \"Marija\"],\n",
    "         \"Marija\": [\"Nada\", \"Dragica\"],\n",
    "         \"Nada\": [\"Marija\", \"Vesna\", \"Josip\"],\n",
    "         \"Vesna\": [\"Nada\"]}\n",
    "\n",
    "g = nx.Graph(ljudi)\n",
    "G = Graph(ljudi)\n",
    "\n",
    "print(f'Dijametar: {nx.diameter(g)}')\n",
    "print(f'Dijametar: {G.diameter()}') #KRIVO\n",
    "\n",
    "# Gustoca = 2 * E / (V * (V - 1))\n",
    "density = 2 * len(g.edges) / (len(ljudi) * (len(ljudi) - 1))\n",
    "print(f'Gustoca: {round(density, 3)}')\n",
    "print(f'Gustoca: {round(G.density(), 3)}')\n",
    "\n",
    "# Stupanj - koliko veza ima cvor\n",
    "degrees = list(g.degree)\n",
    "degrees.sort(key= lambda m: m[1], reverse=True)\n",
    "print(f'Stupnjevi: {degrees}')\n",
    "print(f'Stupnjevi: {G.Delta()}') #KRIVO"
   ]
  }
 ],
 "metadata": {
  "kernelspec": {
   "display_name": "Python 3 (ipykernel)",
   "language": "python",
   "name": "python3"
  },
  "language_info": {
   "codemirror_mode": {
    "name": "ipython",
    "version": 3
   },
   "file_extension": ".py",
   "mimetype": "text/x-python",
   "name": "python",
   "nbconvert_exporter": "python",
   "pygments_lexer": "ipython3",
   "version": "3.10.12"
  },
  "nbTranslate": {
   "displayLangs": [
    "hr",
    "en"
   ],
   "hotkey": "alt-t",
   "langInMainMenu": true,
   "sourceLang": "en",
   "targetLang": "hr",
   "useGoogleTranslate": true
  },
  "toc": {
   "base_numbering": 1,
   "nav_menu": {},
   "number_sections": true,
   "sideBar": true,
   "skip_h1_title": false,
   "title_cell": "Table of Contents",
   "title_sidebar": "Contents",
   "toc_cell": false,
   "toc_position": {},
   "toc_section_display": true,
   "toc_window_display": false
  }
 },
 "nbformat": 4,
 "nbformat_minor": 2
}
