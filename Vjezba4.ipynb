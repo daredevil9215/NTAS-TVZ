{
 "cells": [
  {
   "cell_type": "markdown",
   "metadata": {},
   "source": [
    "Neka je zadan niz ključeva 46, 98, 5, 84, 33, 89, 16, 47, 97, 18, 78, 32, 41, 6, 79, 77, 26, 86, 3, 39, 99, 87, 92, koji se spremaju u hash tablicu veličine 7 uporabom hash funkcije h(k) = k mod 7, gdje se kolizije rješavaju ulančavanjem u jednostruko povezanu listu u koju se novi elementi dodaju na kraj liste, i u kojoj se elementi pretražuju po redu, počevši od onog koji je dodan prvi.\n",
    "\n",
    "Ako su u hash tablicu dodani svi ključevi redom kako su navedeni u listi, koliko provjera ključeva će biti učinjeno da bi našli ključ: \n",
    "\n",
    "    - 86?\n",
    "    - 39?\n",
    "    - 3?\n",
    "    - 87?"
   ]
  },
  {
   "cell_type": "code",
   "execution_count": 15,
   "metadata": {},
   "outputs": [
    {
     "name": "stdout",
     "output_type": "stream",
     "text": [
      "Pretinac 0: [98, 84, 77]\n",
      "Pretinac 1: [78, 99, 92]\n",
      "Pretinac 2: [16, 79, 86]\n",
      "Pretinac 3: [3, 87]\n",
      "Pretinac 4: [46, 18, 32, 39]\n",
      "Pretinac 5: [5, 33, 89, 47, 26]\n",
      "Pretinac 6: [97, 41, 6]\n",
      "\n",
      "86 - 3 provjere\n",
      "39 - 4 provjere\n",
      "3 - 1 provjera\n",
      "87 - 2 provjere\n"
     ]
    }
   ],
   "source": [
    "kljucevi = [46, 98, 5, 84, 33, 89, 16, 47, 97, 18, 78, 32, 41, 6, 79, 77, 26, 86, 3, 39, 99, 87, 92]\n",
    "\n",
    "def h(k: int) -> int:\n",
    "    return k % 7\n",
    "\n",
    "velicina_tablice = 7\n",
    "\n",
    "tablica = {x: [] for x in range(velicina_tablice)}\n",
    "\n",
    "for k in kljucevi:\n",
    "    index = h(k)\n",
    "    tablica[index].append(k)\n",
    "\n",
    "for pretinac in tablica:\n",
    "    print(f'Pretinac {pretinac}: {tablica[pretinac]}')\n",
    "\n",
    "print(\"\\n86 - 3 provjere\")\n",
    "print(\"39 - 4 provjere\")\n",
    "print(\"3 - 1 provjera\")\n",
    "print(\"87 - 2 provjere\")"
   ]
  },
  {
   "cell_type": "markdown",
   "metadata": {},
   "source": [
    "Zadana je lista tekstualnih podataka: \n",
    "\n",
    "'LW293', 'AF721', 'AO434', 'NE073', 'WT433', 'TT315', 'LA599', 'WE969', 'FF595', 'CA346', 'IU407', 'HD179', 'AL439'\n",
    "\n",
    "koji se spremaju u hash tablicu veličine 19 prema načelu otvorenog adresiranja s linearnim isprobavanjem uporabom funkcije h(k, i) = (h'(k) + i) mod 19 gdje je h'(k) = (13 * k) mod 97. Pritom se ključ k dobiva se iz tekstualnog podatka dobiva primjenom osnovne inačice pretvorbe teksta u broj, tj. zbrojem ASCII vrijednosti svih znakova teksta.\n",
    "\n",
    "Nakon dodavanja svih podataka iz zadane liste, navedite brojeve, odnosno indekse pretinaca (0, 1, 2, ...) gdje se nalaze traženi podaci:\n",
    "\n",
    "    - 'FF595' se nalazi u pretincu?\n",
    "    - 'WE969' se nalazi u pretincu?\n",
    "    - 'AL439' se nalazi u pretincu?\n",
    "    - 'CA346' se nalazi u pretincu?\n",
    "    - 'IU407' se nalazi u pretincu?"
   ]
  },
  {
   "cell_type": "code",
   "execution_count": 16,
   "metadata": {},
   "outputs": [
    {
     "name": "stdout",
     "output_type": "stream",
     "text": [
      "Pretinac 0: HD179\n",
      "Pretinac 1: AL439\n",
      "Pretinac 2: LW293\n",
      "Pretinac 3: TT315\n",
      "Pretinac 4: WE969\n",
      "Pretinac 5: FF595\n",
      "Pretinac 6: 0\n",
      "Pretinac 7: AO434\n",
      "Pretinac 8: LA599\n",
      "Pretinac 9: 0\n",
      "Pretinac 10: 0\n",
      "Pretinac 11: 0\n",
      "Pretinac 12: 0\n",
      "Pretinac 13: 0\n",
      "Pretinac 14: AF721\n",
      "Pretinac 15: NE073\n",
      "Pretinac 16: WT433\n",
      "Pretinac 17: CA346\n",
      "Pretinac 18: IU407\n",
      "\n",
      "'FF595' se nalazi u pretincu 5\n",
      "'WE969' se nalazi u pretincu 4\n",
      "'AL439' se nalazi u pretincu 1\n",
      "'CA346' se nalazi u pretincu 17\n",
      "'IU407' se nalazi u pretincu 18\n"
     ]
    }
   ],
   "source": [
    "podaci = ['LW293', 'AF721', 'AO434', 'NE073', 'WT433', 'TT315', 'LA599', 'WE969', 'FF595', 'CA346', 'IU407', 'HD179', 'AL439']\n",
    "\n",
    "def h_crta(k: int) -> int:\n",
    "    return (13 * k) % 97\n",
    "\n",
    "def h(k: int, i: int) -> int:\n",
    "    return (h_crta(k) + i) % 19\n",
    "\n",
    "def pretvori_tekst_u_broj(tekst: str) -> int:\n",
    "    zbroj = sum([ord(slovo) for slovo in tekst])\n",
    "    return zbroj\n",
    "\n",
    "velicina_tablice = 19\n",
    "tablica = {x: 0 for x in range(velicina_tablice)}\n",
    "\n",
    "for p in podaci:\n",
    "\n",
    "    k = pretvori_tekst_u_broj(p)\n",
    "\n",
    "    for i in range(velicina_tablice):\n",
    "        index = h(k, i)\n",
    "\n",
    "        if tablica[index] == 0:\n",
    "            tablica[index] = p\n",
    "            break\n",
    "\n",
    "for t in tablica:\n",
    "    print(f'Pretinac {t}: {tablica[t]}')\n",
    "\n",
    "print(f\"\\n'FF595' se nalazi u pretincu 5\")\n",
    "print(f\"'WE969' se nalazi u pretincu 4\")\n",
    "print(f\"'AL439' se nalazi u pretincu 1\")\n",
    "print(f\"'CA346' se nalazi u pretincu 17\")\n",
    "print(f\"'IU407' se nalazi u pretincu 18\")"
   ]
  }
 ],
 "metadata": {
  "kernelspec": {
   "display_name": "Python_venv",
   "language": "python",
   "name": "python3"
  },
  "language_info": {
   "codemirror_mode": {
    "name": "ipython",
    "version": 3
   },
   "file_extension": ".py",
   "mimetype": "text/x-python",
   "name": "python",
   "nbconvert_exporter": "python",
   "pygments_lexer": "ipython3",
   "version": "3.10.12"
  }
 },
 "nbformat": 4,
 "nbformat_minor": 2
}
